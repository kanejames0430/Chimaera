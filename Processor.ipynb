{
 "cells": [
  {
   "cell_type": "markdown",
   "metadata": {},
   "source": [
    "Links for 1000 most common words (last accessed 14-MAY-2024):\n",
    "\n",
    "english: https://www.ef.edu/english-resources/english-vocabulary/top-1000-words/    (last accessed 14-MAY-2024)\n",
    "\n",
    "spanish: https://strommeninc.com/1000-most-common-spanish-words-frequency-vocabulary/   (last accessed 14-MAY-2024)\n",
    "\n",
    "russian: http://masterrussian.com/vocabulary/most_common_words.htm  (last accessed 15-MAY-2024)\n",
    "\n",
    "arabic: https://1000mostcommonwords.com/1000-most-common-arabic-words/ (last accessed 17-MAY-2024)"
   ]
  },
  {
   "cell_type": "code",
   "execution_count": 1,
   "metadata": {},
   "outputs": [],
   "source": [
    "# Imports\n",
    "from methods import *\n",
    "from nltk.stem import SnowballStemmer\n",
    "import matplotlib.pyplot as plt\n",
    "import os\n",
    "import string\n",
    "import pylab as plot\n",
    "from matplotlib_venn import venn3\n",
    "import numpy as np\n",
    "import pandas as pd\n",
    "\n",
    "# Initialize paths\n",
    "languagesDir = r'data\\languages'\n",
    "sampleDir = r'data\\samplesDocs'\n"
   ]
  },
  {
   "cell_type": "code",
   "execution_count": 18,
   "metadata": {},
   "outputs": [],
   "source": [
    "# Reads the data of the 1000 most common words in the given languages from the data/languages folder\n",
    "# Here the language is KNOWN\n",
    "langDict = readData(languagesDir)\n",
    "\n",
    "# Tokenizes every word based on the language\n",
    "stemDict  = stem(langDict)\n",
    "\n",
    "for language in stemDict:\n",
    "    stemDict[language] = list(set(stemDict.get(language)))\n",
    "\n",
    "word_count = {}\n",
    "\n",
    "for words in stemDict.values():\n",
    "    for word in words:\n",
    "        if word in word_count:\n",
    "            word_count[word] += 1\n",
    "        else:\n",
    "            word_count[word] = 1\n",
    "\n",
    "# Step 2: Iterate over the original dictionary and remove words that appear in multiple languages\n",
    "for language in stemDict:\n",
    "    stemDict[language] = [word for word in stemDict[language] if word_count[word] == 1]"
   ]
  },
  {
   "cell_type": "code",
   "execution_count": 19,
   "metadata": {},
   "outputs": [
    {
     "name": "stdout",
     "output_type": "stream",
     "text": [
      "{'arabic': ['مزلاج', 'شارع', 'هادء', 'جبل', 'رحل', 'رقص', 'سباق', 'ديك', 'عادل', 'نظام', 'سقط', 'مساعد', 'ستا', 'تاثير', 'كوكب', 'الى الامام', 'فتر', 'حكم', 'سكة حديد', 'كلم', 'تيار', 'على مدار الساع', 'تتطلب', 'ارض', 'حيا', 'خلال', 'مسال', 'تهم', 'ارتداء', 'نهاء', 'خبز', 'قرن', 'جزير', 'ارسل', 'تطوير', 'نها', 'شعر', 'ربطة عنق', 'علب', 'منخفض', 'واحد', 'تقرر', 'نعم', 'بحر', 'كلام', 'معا', 'نامل', 'غاب', 'نتاج', 'شباب', 'في', 'حيو', 'الان', 'التل', 'ضوضاء', 'مقبل', 'نجم', 'سيطر', 'كتف', 'خطو', 'هم', 'سطح', 'هو', 'عصاب', 'اختر', 'ارب', 'قارب', 'جذر', 'قطن', 'تسجيل', 'تاكيد', 'قادر', 'اعداد', 'اللغ', 'رجاء', 'تال', 'اصفر', 'ذهب', 'ارد', 'ارقام', 'ربم', 'تحتوي على', 'له', 'تمر', 'اكثر', 'ولا', 'صلب', 'بحث', 'من', 'مصنوع', 'طبع', 'واسط', 'راد', 'ملح', 'من خلال', 'اشتعل', 'موسم', 'مطالب', 'نتيج', 'جميل', 'مرة اخرى', 'توفير', 'فعل', 'تعتمد', 'حطم', 'دعوى', 'عشرو', 'ضحك', 'سفر', 'قر', 'توقف', 'تاريخ', 'فوز', 'يا', 'ي وقت مبكر', 'ايض', 'طباع', 'سواء', 'معتاد', 'قذيف', 'تحت', 'اطفال', 'اقل', 'كامل', 'غناء', 'يحدث', 'صوت عال', 'شمس', 'ك', 'مركز', 'حليب', 'ركن', 'منجم', 'صفح', 'جيد', 'رايح', 'وحد', 'تعليم', 'منطق', 'مقارن', 'فضاء', 'اصبع', 'محتمل', 'جلد', 'عبور', 'لكن', 'شاق', 'مرة واحد', 'فرق', 'ال', 'طبخ', 'اقام', 'خوف', 'ثان', 'قيم', 'غرف', 'لحن', 'عالم', 'نهر', 'دولار', 'صب', 'غاز', 'اعتقد', 'رقم', 'اكسج', 'عقوب', 'صغير', 'دقيق', 'لاحق', 'شكر', 'تذكر', 'هذا', 'اول', 'عبار', 'شق', 'نقيب', 'معاد', 'صور', 'عز', 'ركض', 'ترب', 'انا', 'وضع', 'الذ', 'يبد', 'صحراء', 'تجعد', 'مخيم', 'شرق', 'مرح', 'جليد', 'فقر', 'ذيل', 'الرد', 'هرباء', 'احرى', 'عجب', 'دهن', 'عمر', 'جمال', 'موقف', 'فرص', 'دايم', 'اذا', 'نوم', 'اتصال', 'متوافق', 'فرك', 'انبوب', 'جانب', 'شريط', 'وزن', 'قدم', 'وسط', 'مكتب', 'جدار', 'حقل', 'كلا', 'عد', 'خاطء', 'نمط', 'نافذ', 'حاد', 'كر', 'منفصل', 'حبل', 'صباح', 'ا يزال', 'تجرب', 'اعلى', 'سهول', 'حاف', 'اغن', 'لعب', 'مزرع', 'ميناء', 'زجاج', 'ابن', 'زيت', 'رعا', 'مشهد', 'حاصل', 'رصد', 'كبير', 'محر', 'اعطى', 'نظر', 'طابق', 'ميل', 'الام', 'كلب', 'حشد', 'مكا', 'قو', 'جرس', 'طاير', 'ثالث', 'ذر', 'حاضر', 'الت', 'تواصل', 'شمال', 'سوق', 'طويل', 'جلب', 'جمع', 'الحق', 'قفز', 'الص', 'اهل', 'علف', 'درج', 'فن', 'ضرور', 'بعض', 'الس', 'حديد', 'لمس', 'موضوع', 'سم', 'هيء', 'سلسل', 'يكو', 'عمود', 'سيط', 'أب', 'عشر', 'وجه', 'تذهب', 'مستعمر', 'علام', 'جعل', 'سلك', 'طفل', 'طاق', 'سمح', 'مربع', 'شاهد', 'حي', 'اقترح', 'فتا', 'معنى', 'ممك', 'بلد', 'شجر', 'مشغول', 'ينبغ', 'عشب', 'غريب', 'ساحل', 'عقد', 'ميت', 'ناس', 'ارتفع', 'صندوق', 'الدم', 'خدم', 'مساوا', 'محصول', 'ا شيء', 'محط', 'ي ح', 'حذاء', 'حرار', 'مع', 'قال', 'قصيد', 'نحو', 'ماض', 'تغيير', 'بقع', 'يعتقد', 'اكتشاف', 'فض', 'ادى', 'رجل', 'ككل', 'غطاء', 'كتب', 'ساع', 'لحوم', 'صحيح', 'سماح', 'قرء', 'شراع', 'تمثيل', 'مبارا', 'سيار', 'اسم', 'جنيه', 'سحاب', 'كما', 'طالب', 'أم', 'سكر', 'تقسيم', 'مصنع', 'الى', 'صول', 'جديد', 'قان', 'اسمر', 'دعو', 'يطير', 'بخار', 'مهار', 'ماء', 'محاول', 'لنا', 'عظيم', 'تمام', 'عرف', 'سبب', 'الف', 'مسار', 'رسم', 'تشغيل', 'استراح', 'غرب', 'سهل', 'قايم', 'جزء', 'اطار العجل', 'بق', 'ظهر', 'حيث', 'شهير', 'قطاع', 'شراب', 'تابع', 'وتر', 'عقل', 'عدد', 'الاب', 'تلق', 'شرك', 'داير', 'ثلاث', 'الصف', 'نساء', 'مليو', 'احساس', 'لم', 'نفس', 'ما فيه الكفا', 'غذاء', 'مدين', 'خشب', 'الحب', 'موج', 'سجل', 'دخول', 'اشترى', 'رابع', 'ابتسام', 'حصول على', 'بذر', 'قار', 'حير', 'اراد', 'ركوب', 'ناء', 'هولاء', 'دعم', 'على نطاق ', 'مقصود', 'خل', 'خلف', 'رمز', 'حجم', 'نوع', 'ثم', 'منجز', 'عايل', 'طبيع', 'يمك', 'رم', 'اقول', 'افضل', 'قليل', 'بدا', 'استمع', 'سعيد', 'عاصم', 'غضب', 'هكذ', 'احتفظ', 'اسس', 'نجاح', 'تخم', 'بدل', 'الفء', 'صخر', 'خط', 'اساس', 'امرء', 'قبل', 'زيار', 'عندم', 'عين', 'قياد', 'صحاف', 'تلب', 'بيع', 'سماء', 'مطارد', 'فجو', 'ولاد', 'بشر', 'هواء', 'لين', 'رييس', 'لطيف', 'اضاف', 'عميق', 'جند', 'جناح', 'رقيق', 'فاكه', 'حول', 'تظهر', 'مصطلح', 'مضاعف', 'اخر', 'سحب', 'كثير', 'خاص', 'خريط', 'طبيب', 'ضخم', 'مقعد', 'فرع', 'اختراع', 'تين', 'حفظ', 'لها', 'حرق', 'رسال', 'اسبوع', 'حدد', 'بط', 'طيء', 'تزويد', 'راقب', 'اختبار', 'اسقاط', 'حتى', 'حلم', 'شقيق', 'سيد', 'ارسال', 'صيح', 'رجال', 'سيء', 'تشير', 'ورق', 'حل', 'اثن', 'كيف', 'امن', 'صرخ', 'نار', 'شتاء', 'صعب', 'كتاب', 'تلك', 'جزيء', 'ست', 'حدث', 'ضوء', 'مباشر', 'كسا', 'عرض', 'سفين', 'عظام', 'مات', 'زهر', 'جواب', 'هي', 'حيد', 'شكل', 'خايف', 'تعلم', 'ترك', 'قول', 'القط', 'جاء', 'واسع', 'الذر', 'جاهز', 'يجب', 'لحظ', 'تريد', 'ضبط', 'رفع', 'احمر', 'سوف ل', 'عمل', 'رغب', 'فرح', 'لد', 'تدفق', 'تسلق', 'اسنا', 'ثلج', 'حر', 'قديم', 'نقط', 'مزيج', 'شخص', 'متوسط', 'صيف', 'خارج', 'سوف', 'رتب', 'عيد', 'موسيقى', 'تسع', 'حرف ل', 'غالب', 'اخضر', 'مشرق', 'حرك', 'استغرق', 'مفتوح', 'غسل', 'وقف', 'ذراع', 'قصير', 'طقس', 'بوص', 'عنصر', 'صالح', 'خلق', 'تضم', 'خفاش', 'طول', 'مذكر', 'تحدث', 'سبع', 'دراس', 'ممارس', 'كان', 'مشتر', 'شغل', 'فقد', 'ما', 'شراء', 'أي', 'وصول', 'الكل', 'مشكل', 'عصا', 'سباح', 'نصف', 'انتشار', 'مجموع', 'وقوف', 'خمس', 'مفتاح', 'عدو', 'غرام', 'مكتوب', 'حرب', 'مصلح', 'ازرق', 'قص', 'اخذ', 'اصل', 'بعد', 'كتكو', 'متجر', 'انضمام', 'عام', 'منح', 'ضعف', 'غن', 'قاموس', 'جنوب', 'نما', 'تنم', 'جير', 'مطر', 'قلب', 'ضرب', 'رقب', 'قتل', 'كرس', 'دفع', 'بدء', 'ساح', 'استخدام', 'نحن', 'معرك', 'ندق', 'قاعد', 'واضح', 'محيط', 'مثلث', 'انزلاق', 'صفق', 'ثقيل', 'تحتاج', 'ثمان', 'مظلم', 'قياس', 'مماثل', 'يوم', 'تختلف', 'انتاج', 'اسود', 'اشعار', 'كتل', 'جول', 'مقطع لفظ', 'بر', 'زوج', 'فم', 'مثل', 'قير', 'الو', 'شاطء', 'كبرى', 'مال', 'مثال', 'خطاب', 'تناسب', 'حفر', 'ليل', 'منشار', 'حصل', 'رماد', 'تطلب', 'اكل', 'تهجى', 'اختيار', 'ربيع', 'سمع', 'مدرس', 'مفاجء', 'بنك', 'الم', 'علم', 'حزب', 'قطار', 'باب', 'ضد', 'شاحن', 'حرف', 'أن', 'ابد', 'اسفل', 'سمك', 'رء', 'تالق', 'فقط', 'مستوى', 'انف', 'رياح', 'لف', 'على الرغم م', 'تحمل', 'تصميم', 'نغم', 'شهر', 'ابقى', 'عضو', 'امتداد', 'اثب', 'منزل', 'غادر', 'نسخ', 'بين', 'جدا', 'اذن', 'معرض', 'لماذ', 'رمل', 'لا', 'ابيض', 'جاف', 'حمل', 'طريق', 'منعطف', 'حشر', 'تفاح', 'هنا', 'قريب', 'لقم', 'حما', 'حقيق', 'قيام', 'تكلف', 'قسم', 'منذ', 'كذب', 'مجلس الادار', 'طلاء', 'الا', 'فكر', 'حال', 'اربع', 'انتظر', 'ارتفاع', 'خطر', 'توافق', 'حديق', 'حار', 'جبه', 'بقر', 'بيض', 'سير', 'واد', 'حجر', 'لون', 'كل', 'قاع', 'متاخر', 'شيء', 'صديق', 'تخيل', 'توج', 'ملك', 'عكس', 'حص', 'مغناطيس', 'دول', 'اثار', 'على', 'اختلف', 'صوت', 'مساء', 'صناع', 'احد', 'طرح', 'يد', 'سريع', 'فوق', 'توقع', 'قد', 'درجة الحرار', 'جلوس', 'قطع', 'انت', 'سوال', 'حديث', 'سايل', 'ساق', 'وصف', 'سليم', 'متسا', 'ادا', 'تحقق', 'لي', 'تعرف', 'ملكة جمال', 'سرع', 'جدول', 'ماد', 'تجار', 'نظيف', 'كرر', 'قبع', 'ضوء القمر', 'انفق', 'أو', 'و', 'معطف', 'عجل', 'قرب', 'ريق', 'الحص'], 'english': ['memori', 'sea', 'attent', 'draw', 'herself', 'off', 'owner', 'remain', 'three', 'now', 'messag', 'read', 'sell', 'set', 'thank', 'trip', 'bar', 'lie', 'million', 'includ', 'huge', 'mr', 'anyth', 'everybodi', 'polit', 'answer', 'child', 'writer', 'someon', 'shoot', 'near', 'enough', 'see', 'serious', 'true', 'as', 'consum', 'director', 'career', 'intern', 'window', 'relat', 'voic', 'statement', 'mouth', 'soldier', 'veri', 'mother', 'cold', 'identifi', 'if', 'avail', 'player', 'tv', 'which', 'measur', 'improv', 'necessari', 'mani', 'effort', 'anoth', 'kill', 'buy', 'north', 'various', 'recent', 'begin', 'action', 'communiti', 'marriag', 'our', 'garden', 'rise', 'law', 'score', 'pick', 'tough', 'fill', 'tree', 'down', 'opportun', 'abil', 'comput', 'gun', 'simpli', 'sure', 'cancer', 'time', 'els', 'put', 'reason', 'you', 'centuri', 'decad', 'cours', 'build', 'concern', 'leader', 'happi', 'there', 'hous', 'ever', 'month', 'light', 'hotel', 'same', 'colleg', 'station', 'thought', 'truth', 'fear', 'choos', 'properti', 'among', 'eye', 'account', 'let', 'their', 'each', 'prevent', 'travel', 'more', 'here', 'everi', 'legal', 'learn', 'enjoy', 'occur', 'coupl', 'valu', 'billion', 'stage', 'violenc', 'senior', 'carri', 'nor', 'listen', 'center', 'cultur', 'guy', 'citizen', 'share', 'do', 'pattern', 'subject', 'befor', 'drive', 'ground', 'becaus', 'week', 'mind', 'spend', 'team', 'effect', 'peac', 'social', 'find', 'religi', 'contain', 'need', 'trade', 'abl', 'throughout', 'crime', 'toward', 'from', 'parent', 'former', 'the', 'second', 'follow', 'loss', 'throw', 'author', 'power', 'must', 'diseas', 'nice', 'best', 'watch', 'lose', 'admit', 'have', 'money', 'through', 'year', 'better', 'spring', 'base', 'growth', 'kitchen', 'arriv', 'often', 'wear', \"n't\", 'condit', 'come', 'full', 'drug', 'structur', 'age', 'bring', 'world', 'clear', 'face', 'citi', 'safe', 'busi', 'save', 'stuff', 'student', 'newspap', 'design', 'she', 'pressur', 'look', 'itself', 'noth', 'could', 'articl', 'allow', 'elect', 'fund', 'interest', 'like', 'train', 'environment', 'at', 'weapon', 'black', 'readi', 'thing', 'seat', 'brother', 'sport', 'within', 'be', 'it', 'tri', 'happen', 'stock', 'wonder', 'good', 'yeah', 'hang', 'pass', 'network', 'reveal', 'add', 'wish', 'abov', 'over', 'project', 'professor', 'camera', 'whi', 'rather', 'skill', 'want', 'oil', 'about', 'local', 'feder', 'break', 'program', 'benefit', 'woman', 'hot', 'great', 'natur', 'green', 'these', 'impact', 'heavi', 'whole', 'art', 'exist', 'smile', 'realiti', 'knowledg', 'meet', 'degre', 'write', 'sometim', 'forc', 'should', 'film', 'ball', 'return', 'partner', 'use', 'american', 'fire', 'point', 'we', 'move', 'room', 'radio', 'talk', 'close', 'finish', 'road', 'into', 'threat', 'enter', 'machin', 'matter', 'price', 'drop', 'establish', 'out', 'manag', 'step', 'his', 'choic', 'societi', 'get', 'die', 'sort', 'type', 'task', 'thus', 'next', 'store', 'congress', 'debat', 'although', 'soon', 'but', 'day', 'go', 'agenc', 'five', 'than', 'so', 'repres', 'insid', 'teacher', 'work', 'reflect', 'court', 'cut', 'laugh', 'view', 'address', 'behavior', 'amount', 'whom', 'energi', 'expert', 'popul', 'sever', 'doctor', 'seri', 'last', 'despit', 'lot', 'claim', 'usual', 'chang', 'civil', 'life', 'stand', 'dure', 'consid', 'mayb', 'whether', 'song', 'myself', 'of', 'explain', 'white', 'prove', 'them', 'tax', 'vote', 'for', 'church', 'note', 'respons', 'box', 'paint', 'languag', 'up', 'treat', 'ani', 'her', 'glass', 'then', 'or', 'husband', 'interview', 'rememb', 'focus', 'strategi', 'victim', 'western', 'girl', 'hit', 'lay', 'bad', 'none', 'hair', 'my', 'scene', 'take', 'wall', 'few', 'dog', 'candid', 'recogn', 'agre', 'behind', 'yes', 'servic', 'stori', 'major', 'along', 'make', 'alreadi', 'sit', 'east', 'challeng', 'give', 'govern', 'kid', 'central', 'expect', 'death', 'dream', 'know', 'purpos', 'style', 'market', 'those', 'health', 'pull', 'risk', 'both', 'dark', 'speak', 'section', 'key', 'seem', 'dead', 'secur', 'where', 'half', 'media', 'piec', 'arm', 'start', 'other', 'speech', 'strong', 'sens', 'act', 'also', 'protect', 'televis', 'model', 'defens', 'food', 'that', 'sound', 'southern', 'attorney', 'either', 'well', 'past', 'offer', 'one', 'mean', 'daughter', 'think', 'physic', 'area', 'head', 'far', 'long', 'heart', 'all', 'place', 'resourc', 'countri', 'weight', 'realiz', 'bodi', 'catch', 'on', 'process', 'upon', 'check', 'win', 'under', 'bag', 'nation', 'blue', 'role', 'somebodi', 'appear', 'understand', 'deep', 'high', 'commerci', 'shake', 'institut', 'babi', 'pictur', 'democrat', 'tend', 'environ', 'right', 'cell', 'collect', 'front', 'fine', 'polic', 'republican', 'parti', 'troubl', 'coach', 'hour', 'while', 'campaign', 'anyon', 'charact', 'love', 'cover', 'current', 'he', 'accept', 'card', 'involv', 'letter', 'site', 'door', 'never', 'himself', 'small', 'cup', 'most', 'run', 'tradit', 'item', 'approach', 'worri', 'assum', 'word', 'detail', 'polici', 'least', 'way', 'street', 'low', 'this', 'whose', 'alon', 'six', 'hold', 'forget', 'west', 'name', 'adult', 'main', 'guess', 'rais', 'everyon', 'invest', 'worker', 'red', 'ahead', 'increas', 'particip', 'order', 'audienc', 'pretti', 'analysi', 'onc', 'though', 'father', 'educ', 'late', 'level', 'simpl', 'realli', 'requir', 'free', 'inform', 'dinner', 'old', 'without', 'your', 'term', 'patient', 'inde', 'profession', 'becom', 'sing', 'exampl', 'studi', 'poor', 'hospit', 'fish', 'believ', 'miss', 'when', 'yard', 'care', 'issu', 'lawyer', 'number', 'whatev', 'differ', 'him', 'home', 'accord', 'remov', 'big', 'fail', 'militari', 'send', 'movement', 'popular', 'rock', 'between', 'wait', 'bill', 'new', 'scienc', 'situat', 'rang', 'hear', 'littl', 'some', 'again', 'might', 'success', 'help', 'qualiti', 'capit', 'they', 'administr', 'unit', 'job', 'tell', 'suffer', 'relationship', 'employe', 'confer', 'teach', 'discov', 'posit', 'special', 'walk', 'with', 'shot', 'across', 'around', 'quick', 'by', 'agreement', 'skin', 'sourc', 'final', 'hope', 'possibl', 'member', 'yourself', 'method', 'especi', 'execut', 'presid', 'report', 'onli', 'stop', 'too', 'treatment', 'wide', 'can', 'charg', 'beauti', 'fight', 'discuss', 'fli', 'system', 'after', 'finger', 'morn', 'offic', 'still', 'mrs', 'budget', 'water', 'own', 'research', 'easi', 'eat', 'leg', 'movi', 'night', 'compani', 'foreign', 'less', 'beat', 'first', 'quit', 'us', 'themselv', 'size', 'goal', 'receiv', 'pm', 'page', 'play', 'scientist', 'fact', 'even', 'perhap', 'wife', 'custom', 'rich', 'third', 'question', 'foot', 'common', 'who', 'middl', 'race', 'how', 'reach', 'notic', 'control', 'lead', 'technolog', 'until', 'pain', 'shoulder', 'against', 'hundr', 'yet', 'develop', 'what', 'keep', 'evid', 'land', 'summer', 'artist', 'factor', 'staff', 'experi', 'magazin', 'hard', 'pay', 'rate', 'everyth', 'young', 'option', 'suggest', 'two', 'heat', 'instead', 'case', 'end', 'mention', 'book', 'affect', 'decis', 'to', 'public', 'grow', 'today', 'almost', 'deal', 'friend', 'four', 'field', 'howev', 'entir', 'feel', 'live', 'town', 'beyond', 'econom', 'test', 'floor', 'peopl', 'ago', 'war', 'reduc', 'space', 'idea', 'someth', 'season', 'sister', 'game', 'leav', 'fast', 'sexual', 'south', 'difficult', 'side', 'boy', 'support', 'togeth', 'standard', 'outsid', 'hand', 'activ', 'sudden', 'later', 'onto', 'wind', 'left', 'rule', 'push', 'wrong', 'avoid', 'would', 'surfac', 'say', 'maintain', 'particular', 'privat', 'agent', 'away', 'attack', 'edg', 'paper', 'kind', 'born', 'class', 'seek', 'blood', 'phone', 'generat', 'forward', 'seven', 'sex', 'join', 'ask', 'financi', 'individu', 'similar', 'chanc', 'bed', 'news', 'group', 'specif', 'alway', 'offici', 'argu', 'bank', 'certain', 'mission', 'tonight', 'star', 'such', 'data', 'fall', 'short', 'top', 'sinc', 'appli', 'school', 'state', 'in', 'board', 'thousand', 'trial', 'will', 'theori', 'economi', 'open', 'eight', 'perform', 'stay', 'turn', 'anim', 'and', 'i', 'may', 'chair', 'singl', 'ok', 'provid', 'back', 'earli', 'futur', 'creat', 'firm'], 'russian': ['темн', 'достаточн', 'повернут', 'из', 'тишин', 'вниман', 'мал', 'интерес', 'деньг', 'как', 'лучш', 'всегд', 'счастлив', 'холодн', 'управлен', 'правильн', 'душ', 'дерев', 'кож', 'газет', 'корол', 'представля', 'рол', 'рассказа', 'помога', 'школ', 'сосед', 'худ', 'известн', 'улыбнут', 'у', 'мнен', 'хлеб', 'будущ', 'кресл', 'лоб', 'смерт', 'происход', 'обязательн', 'слаб', 'тогд', 'москв', 'широк', 'жен', 'знач', 'лист', 'жела', 'вперв', 'пожалова', 'крыш', 'лиц', 'господин', 'ж', 'вед', 'приеха', 'надежд', 'свет', 'возл', 'для', 'говор', 'вдруг', 'имен', 'недавн', 'спокойн', 'компан', 'движен', 'лейтенант', 'но', 'откр', 'к', 'а', 'показа', 'служ', 'рассказыва', 'услов', 'ход', 'пут', 'берег', 'впроч', 'ин', 'больн', 'телефон', 'кухн', 'видет', 'разв', 'государствен', 'девочк', 'ладн', 'заболеван', 'куп', 'вест', 'двига', 'литератур', 'назван', 'этот', 'земл', 'систем', 'действительн', 'дела', 'страх', 'наук', 'возраст', 'сест', 'взглянут', 'во', 'представ', 'современ', 'зим', 'раз', 'зелен', 'зват', 'случа', 'взгляд', 'вполн', 'объясн', 'развит', 'обычн', 'быт', 'повтор', 'дел', 'получ', 'там', 'войн', 'правительств', 'коротк', 'уб', 'зап', 'воздух', 'совс', 'понятн', 'куд', 'связ', 'туд', 'проблем', 'иде', 'тих', 'гражданин', 'потеря', 'местн', 'начальник', 'труд', 'кажд', 'постав', 'ум', 'прекрасн', 'ящик', 'врач', 'имет', 'номер', 'живот', 'чуж', 'слыша', 'останов', 'попробова', 'через', 'ног', 'мозг', 'город', 'син', 'кол', 'любов', 'видн', 'готов', 'дума', 'разговор', 'иска', 'спасиб', 'лет', 'об', 'собствен', 'верн', 'хотет', 'единствен', 'снача', 'прежн', 'скольк', 'знат', 'сторон', 'долг', 'висет', 'ряд', 'горяч', 'трубк', 'ладон', 'пример', 'втор', 'подход', 'орга', 'двор', 'дух', 'стреля', 'сво', 'поч', 'палец', 'котор', 'смея', 'суд', 'удив', 'сон', 'прост', 'тен', 'встреч', 'щек', 'пол', 'наконец', 'что', 'сестр', 'замет', 'крупн', 'сын', 'век', 'метр', 'цел', 'гор', 'солнц', 'дожд', 'сил', 'позвон', 'сообщ', 'сто', 'о', 'иногд', 'точк', 'вперед', 'тож', 'еха', 'камен', 'назва', 'давн', 'стран', 'дат', 'прос', 'центр', 'вспомина', 'воен', 'присла', 'снег', 'золот', 'голос', 'кров', 'доста', 'десяток', 'нрав', 'вход', 'посл', 'ше', 'сейчас', 'нов', 'полн', 'красив', 'конечн', 'детск', 'стол', 'ответ', 'видим', 'вин', 'част', 'далек', 'поздн', 'закон', 'врем', 'причин', 'сер', 'тво', 'вмест', 'на', 'произойт', 'четыр', 'жит', 'мокр', 'эт', 'слишк', 'наход', 'учител', 'же', 'писател', 'мног', 'мам', 'себ', 'моч', 'зде', 'вопрос', 'приня', 'брат', 'уеха', 'личн', 'быстр', 'отда', 'при', 'смотрет', 'следова', 'попрос', 'арм', 'тип', 'прич', 'отсюд', 'умерет', 'созда', 'судьб', 'почувствова', 'вечер', 'сад', 'пок', 'друг', 'коридор', 'документ', 'удовольств', 'очен', 'спин', 'народ', 'зал', 'порядок', 'пит', 'обратн', 'прийт', 'лошад', 'прям', 'крича', 'железн', 'вниз', 'способн', 'сердц', 'добав', 'маленьк', 'пахнут', 'ещ', 'состоян', 'дед', 'есл', 'ран', 'скор', 'президент', 'политическ', 'слов', 'директор', 'хорош', 'бит', 'закрича', 'немецк', 'нет', 'пот', 'черт', 'глядет', 'свобод', 'слав', 'с', 'истор', 'нос', 'услыша', 'необходим', 'однажд', 'вернут', 'уч', 'банк', 'росс', 'реч', 'медлен', 'пройт', 'желан', 'не', 'дорог', 'главн', 'лежа', 'автор', 'оказыва', 'встат', 'глав', 'пыта', 'да', 'остав', 'предлож', 'рубл', 'доктор', 'нужн', 'счет', 'никт', 'самолет', 'сред', 'держа', 'должн', 'близк', 'мен', 'тепер', 'я', 'квартир', 'больш', 'революц', 'трудн', 'разн', 'перв', 'важн', 'уровен', 'вып', 'сидет', 'девушк', 'обществ', 'требова', 'ну', 'мест', 'книг', 'вокруг', 'хот', 'дво', 'провест', 'цвет', 'ух', 'отвеча', 'ожида', 'став', 'рост', 'прав', 'плака', 'мужик', 'мо', 'колот', 'выглядет', 'снят', 'исчезнут', 'бутылк', 'рома', 'остальн', 'жизн', 'союз', 'протянут', 'класс', 'велик', 'пуст', 'смысл', 'звезд', 'уход', 'утр', 'стен', 'план', 'занима', 'обнаруж', 'наверн', 'язык', 'приход', 'за', 'водк', 'вызыва', 'относ', 'опя', 'равн', 'московск', 'болезн', 'совет', 'мил', 'час', 'собира', 'чита', 'сознан', 'ча', 'здоров', 'служб', 'конец', 'стекл', 'чувств', 'один', 'привест', 'стат', 'возника', 'секунд', 'результат', 'сам', 'принест', 'черн', 'женщин', 'узна', 'ли', 'прежд', 'возвраща', 'ребят', 'темнот', 'бо', 'русск', 'старик', 'письм', 'крикнут', 'оп', 'без', 'бог', 'надея', 'бумаг', 'боя', 'всяк', 'уверен', 'командир', 'летет', 'уж', 'помн', 'куст', 'чут', 'молча', 'стольк', 'станов', 'человек', 'рук', 'даж', 'заб', 'ребенок', 'собак', 'явля', 'общ', 'три', 'возможн', 'ничт', 'неб', 'течен', 'голов', 'вы', 'тут', 'найт', 'меша', 'мешок', 'завод', 'чтоб', 'успет', 'оруж', 'знак', 'проч', 'памя', 'высок', 'удар', 'тот', 'совершен', 'товарищ', 'повер', 'рот', 'такж', 'бежа', 'либ', 'ночн', 'инач', 'дурак', 'родител', 'радост', 'лев', 'сквоз', 'поеха', 'мы', 'кстат', 'ден', 'разговарива', 'остава', 'можн', 'над', 'назад', 'ждат', 'лагер', 'им', 'кто', 'написа', 'корабл', 'упаст', 'позвол', 'огромн', 'быва', 'спрашива', 'фамил', 'пап', 'нескольк', 'окол', 'проход', 'звук', 'кулак', 'длин', 'област', 'улыба', 'дам', 'по', 'последн', 'дава', 'стар', 'человеческ', 'мальчик', 'он', 'когд', 'враг', 'поня', 'жив', 'появля', 'горет', 'государств', 'двадца', 'войт', 'рабоч', 'информац', 'завтр', 'провод', 'немец', 'работа', 'мол', 'никак', 'улиц', 'нельз', 'ве', 'событ', 'круг', 'выйт', 'интересн', 'счаст', 'трет', 'парт', 'особ', 'вер', 'бел', 'сраз', 'зач', 'плеч', 'кра', 'километр', 'однак', 'сапог', 'стул', 'команд', 'шест', 'положен', 'до', 'слуша', 'сорок', 'легк', 'вот', 'вол', 'ветер', 'факт', 'кабинет', 'род', 'открыт', 'внутрен', 'люб', 'кром', 'поезд', 'произнест', 'два', 'хозяин', 'ворот', 'работ', 'советск', 'вообщ', 'настоя', 'пар', 'ах', 'внов', 'любим', 'шаг', 'тяжел', 'где', 'груд', 'ты', 'офицер', 'молч', 'спрос', 'рассказ', 'подня', 'деся', 'цветок', 'гост', 'решен', 'мелк', 'след', 'лестниц', 'оказа', 'придт', 'отношен', 'показыва', 'повод', 'обеща', 'продолжа', 'дан', 'помоч', 'российск', 'неужел', 'полож', 'сдела', 'существова', 'основн', 'пришл', 'называ', 'гер', 'сильн', 'бок', 'район', 'слез', 'мужчин', 'сюд', 'осторожн', 'картин', 'музык', 'никогд', 'вон', 'очеред', 'профессор', 'подума', 'вещ', 'природ', 'баб', 'например', 'иб', 'хват', 'конч', 'вызва', 'сказа', 'мим', 'тридца', 'погибнут', 'действова', 'некотор', 'толст', 'встрет', 'неч', 'тольк', 'вверх', 'средн', 'американск', 'сегодн', 'средств', 'этаж', 'качеств', 'неизвестн', 'нача', 'и', 'машин', 'комнат', 'площад', 'уйт', 'умет', 'словн', 'немн', 'се', 'пойт', 'привыкнут', 'остр', 'толп', 'групп', 'количеств', 'молод', 'посмотрет', 'серьезн', 'помощ', 'под', 'карма', 'невозможн', 'недел', 'поскольк', 'появ', 'выш', 'вздохнут', 'сух', 'вчер', 'откуд', 'будт', 'член', 'особен', 'крова', 'стара', 'плох', 'идт', 'межд', 'ноч', 'цен', 'тепл', 'год', 'взят', 'понима', 'карт', 'тысяч', 'пет', 'мер', 'вспомн', 'мат', 'лиш', 'со', 'улыбк', 'нест', 'станц', 'месяц', 'соглас', 'переста', 'выход', 'бол', 'весьм', 'вид', 'ил', 'ясн', 'начина', 'отец', 'генера', 'стоя', 'красн', 'чист', 'волос', 'дом', 'смоч', 'борьб', 'минут', 'весел', 'парен', 'действ', 'капита', 'правд', 'бы', 'тел', 'оста', 'процесс', 'подобн', 'связа', 'в', 'зерка', 'муж', 'вскор', 'образ', 'птиц', 'уда', 'добр', 'едв', 'полковник', 'посла', 'ситуац', 'огон', 'бабушк', 'подойт', 'от', 'чувствова', 'увидет', 'случ', 'выражен', 'снов', 'игр', 'ко', 'свободн', 'счита', 'дяд', 'ни', 'похож', 'брос', 'старш', 'зат', 'трав', 'пят', 'фронт', 'принима', 'сем', 'довольн', 'половин', 'пор', 'прот', 'дым', 'приказ', 'мор', 'хвата', 'рад', 'игра', 'зуб', 'границ', 'че', 'так', 'стака', 'доч', 'слегк', 'пожалуйст', 'власт', 'родн', 'окн', 'институт', 'реш', 'форм', 'момент', 'почт', 'страшн', 'вовс', 'получа', 'кивнут', 'использова', 'ваш', 'спат', 'рек', 'попаст', 'магазин', 'рыб', 'угол', 'прошл', 'двер', 'мысл', 'мир', 'точн', 'бывш', 'каза', 'врод', 'лес', 'собра', 'глубок', 'перед', 'деревн', 'неожида', 'наш', 'губ', 'ест', 'про', 'тонк', 'голуб', 'художник', 'глаз', 'чем', 'числ', 'небольш', 'возникнут', 'слат', 'желт', 'вод', 'характер', 'детств', 'знаком', 'солдат', 'писа', 'большинств', 'поэт'], 'spanish': ['sombrer', 'mat', 'marc', 'roll', 'simil', 'efect', 'buqu', 'de pi', 'su', 'abrig', 'soport', 'menud', 'izquierd', 'discurs', 'ellos', 'ruid', 'aqu', 'ocean', 'element', 'anill', 'pens', 'cuid', 'vest', 'gan', 'hac', 'suministr', 'sol', 'estacion', 'avis', 'suced', 'ser', 'desd', 'plan d', 'luz', 'lad', 'triangul', 'lug', 'banc', 'verb', 'basic', 'caract', 'traj', 'liqu', 'log', 'prueb', 'demasi', 'destac', 'inferior', 'fuerz', 'añad', 'acuerd', 'delg', 'sustant', 'lech', 'fri', 'sufij', 'hiz', 'ultim', 'cruz', 'segment', 'lag', 'men', 'era', 'años', 'necesari', 'esclav', 'hig', 'acord', 'dond', 'gui', 'pies', 'poem', 'suel', 'a traves d', 'mil', 'envi', 'deb', 'palabr', 'division', 'corazon', 'primer', 'abiert', 'papel', 'barr', 'material', 'permit', 'arte', 'bat', 'recib', 'ejempl', 'pris', 'que', 'ofert', 'cad', 'hay', 'azuc', 'delant', 'de espesor', 'se reun', 'adecu', 'hues', 'eran', 'desarroll', 'es', 'y', 'leer', 'ley', 'madr', 'nunc', 'pobr', 'peligr', 'danz', 'conch', 'vecin', 'necesit', 'aunqu', 'constru', 'cuerd', 'exig', 'bol', 'ayud', 'plural', 'inviern', 'pitch', 'llam', 'estrell', 'sig', 'brill', 'hierb', 'pel', 'punt', 'pulg', 'camp', 'sab', 'vid', 'desiert', 'oest', 'reloj', 'espald', 'chic', 'cont', 'quem', 'unirs', 'motor', 'despues', 'sistem', 'dio', 'pist', 'quizas', 'unid', 'segund', 'pati', 'ton', 'planet', 'se fu', 'escal', 'des', 'lanz', 'ojo', 'manzan', 'cim', 'captur', 'ciel', 'ir', 'palill', 'nub', 'sencill', 'ferrocarril', 'zon', 'satelit', 'brech', 'alivi', 'romp', 'boc', 'soñ', 'cient', 'posibl', 'alambr', 'numeral', 'manten', 'amar', 'patron', 'huev', 'pajar', 'verd', 'puebl', 'tub', 'empat', 'contr', 'viv', 'bosqu', 'principal', 'rond', 'seman', 'empuj', 'nivel', 'fras', 'mader', 'inici', 'parraf', 'ocup', 'cas', 'muy', 'comun', 'enseñ', 'nuev', 'pagin', 'cuarto de galon', 'depend', 'de', 'dar', 'camin', 'mientr', 'famos', 'piedr', 'niñ', 'natural', 'granj', 'cre', 'sonris', 'cay', 'carn', 'sustanci', 'voz', 'durant', 'escrit', 'sujet', 'jov', 'tren', 'alto', 'pag', 'clav', 'por qu', 'espaci', 'limpi', 'campan', 'flu', 'am', 'propag', 'jueg', 'por tanto,', 'algun', 'ris', 'lluvi', 'golp', 'llen', 'guerr', 'gran', 'el', 'maravill', 'discut', 'dient', 'naturalez', 'seleccion', 'deteng', 'dol', 'azul', 'iman', 'multiplic', 'energ', 'barc', 'fraccion', 'mas bi', 'oid', 'mill', 'graci', 'vidri', 'hombr', 'cort', 'pront', 'sorpres', 'ded', 'cuy', 'plat', 'asient', 'sill', 'cinc', 'negr', 'tal', 'cerc', 'bellez', 'instantane', 'campament', 'feliz', 'orill', 'copi', 'excit', 'base d', 'luch', 'mont', 'fil', 'prens', 'extrañ', 'dificil', 'isla', 'atom', 'cabez', 'proteg', 'escrib', 'regl', 'tres', 'alcanc', 'content', 'compr', 'nuestr', 'seccion', 'gras', 'olor', 'esquin', 'diseñ', 'haci', 'ascens', 'mentir', 'metod', 'por', 'ambos', 'seis', 'dia', 'clas', 'ven', 'hiel', 'pap', 'ola', 'coloni', 'escuel', 'bloqu', 'acer', 'comenz', 'gat', 'capitan', 'tod', 'clar', 'print', 'asi', 'beb', 'especial', 'sal', 'jardin', 'grand', 'hij', 'pat', 'camion', 'merc', 'ciert', 'registr', 'temperatur', 'nosotr', 'vall', 'solitari', 'estos', 'correct', 'cancion', 'column', 'cubiert', 'estudi', 'tierr', 'cant', 'ni', 'esper', 'lo', 'oro', 'siet', 'ment', 'corr', 'plaz', 'sangr', 'silenci', 'pes', 'conson', 'o', 'cambi', 'separ', 'entre', 'comerci', 'vocal', 'posicion', 'toc', 'com', 'mied', 'llev', 'conjunt', 'pis', 'jef', 'habitual', 'viej', 'cuand', 'ahor', 'aceit', 'proces', 'ya se', 'calor', 'ala', 'quer', 'entrar', 'cos', 'vel', 'tien', 'habit', 'nombr', 'plieg', 'medi', 'col', 'primaver', 'cuot', 'antes', 'conect', 'mar', 'polluel', 'perr', 'cuerp', 'radi', 'propied', 'dur', 'pint', 'diversion', 'podr', 'se ha ', 'una vez', 'salvaj', 'oscur', 'except', 'carreter', 'conduc', 'suficient', 'suger', 'entonc', 'mast', 'caball', 'diez', 'padr', 'numer', 'mi', 'piern', 'cocient', 'cienci', 'suav', 'este', 'siempr', 'sil', 'condicion', 'continent', 'cerr', 'tarjet', 'tiemp', 'abaj', 'roj', 'rap', 'ventan', 'rect', 'hoj', 'solucion', 'mediod', 'ocho', 'agujer', 'objet', 'lun', 'superfici', 'diccionari', 'movimient', 'derech', 'cuell', 'dam', 'hor', 'demas', 'adivin', 'si', 'recog', 'lo h', 'mes', 'pie', 'cualqui', 'ella', 'instrument', 'flor', 'veint', 'desg', 'eleg', 'cuatr', 'escuch', 'algodon', 'de capital', 'el control', 'aren', 'orden', 'vac', 'curs', 'acerc', 'guard', 'junt', 'acto', 'vin', 'por encima d', 'brillant', 'tip', 'potenci', 'pase', 'detras', 'dibuj', 'coch', 'cart', 'multitud', 'salt', 'pas', 'la', 'inclus', 'ejecut', 'nad', 'maiz', 'deletr', 'semill', 'aument', 'los', 'niev', 'vapor', 'vist', 'manteng', 'corrient', 'bastant', 'sierr', 'oficin', 'neumat', 'frut', 'ver', 'tambien', 'tercer', 'equipar', 'blanc', 'tempran', 'veran', 'estad', 'igual', 'verdader', 'piens', 'vient', 'mezcl', 'pobl', 'fin', 'puntuacion', 'rotur', 'muert', 'particular,', 'ampli', 'mal', 'calient', 'vol', 'localiz', 'fueg', 'montañ', 'herman', 'mujer', 'muj', 'enorm', 'ascensor', 'uso', 'lent', 'fresc', 'colin', 'lav', 'decimal', 'organiz', 'band', 'pec', 'acab', 'original', 'proporcion', 'pued', 'parec', 'poc', 'ser distint', 'equip', 'dos', 'roc', 'complet', 'mejor', 'nacion', 'raiz', 'espos', 'en', 'con', 'sueñ', 'dej', 'valor', 'pistol', 'vari', 'encontr', 'al est', 'capaz', 'lleg', 'comprob', 'por favor', 'aut', 'oportun', 'baj', 'vend', 'profund', 'hal', 'un', 'enemig', 'razon', 'busc', 'caer', 'adel', 'tranquil', 'sigl', 'noch', 'inclu', 'de cult', 'nos', 'molecul', 'buen', 'trabaj', 'tom', 'bord', 'reun', 'arbol', 'nac', 'traid', 'caz', 'habil', 'libr', 'sur', 'diner', 'favorec', 'coler', 'pod', 'no lo h', 'min', 'represent', 'millon', 'edad', 'herramient', 'map', 'pan', 'invent', 'mism', 'gobern', 'hast', 'alegr', 'braz', 'piel', 'celul', 'hech', 'consegu', 'a su vez,', 'charl', 'zapat', 'ciud', 'proxim', 'llan', 'grit', 'mensaj', 'repit', 'segur', 'dobl', 'usted', 'consider', 'grad', 'oxigen', 'lat', 'trat', 'perd', 'electr', 'pequeñ', 'de altur', 'veloc', 'opuest', 'en esper', 'har', 'uno', 'tard', 'propi', 'animal', 'respuest', 'tiend', 'centr', 'aun', 'interes', 'conten', 'marron', 'ric', 'observ', 'idiom', 'gris', 'caj', 'par', 'puert', 'carrer', 'resolv', 'cien', 'dich', 'cociner', 'aparec', 'frot', 'tempor', 'sold', 'cobr', 'cam', 'mor', 'tra', 'exit', 'piez', 'yo', 'mund', 'nort', 'longitud', 'insect', 'experient', 'rued', 'demostr', 'desliz', 'circul', 'pregunt', 'otros', 'grup', 'viaj', 'todav', 'distant', 'tram', 'agud', 'busqued', 'ros', 'sec', 'habl', 'caden', 'reclam', 'encaj', 'ram', 'de metal', 'maquin', 'apoy', 'rio', 'tamañ', 'pais', 'mañan', 'jug', 'pon', 'nariz', 'simbol', 'señorit', 'melod', 'aliment', 'rey', 'amarill', 'empres', 'aprend', 'fuert', 'de nuev', 'agu', 'ejercici', 'fuer', 'sent', 'sobr', 'med', 'experiment', 'amig', 'hierr', 'repentin', 'gust', 'crec', 'dec', 'mas', 'qued']}\n"
     ]
    }
   ],
   "source": [
    "print(stemDict)"
   ]
  },
  {
   "cell_type": "code",
   "execution_count": 20,
   "metadata": {},
   "outputs": [
    {
     "data": {
      "image/png": "[encoded data removed]",
      "text/plain": [
       "<Figure size 500x500 with 1 Axes>"
      ]
     },
     "metadata": {},
     "output_type": "display_data"
    }
   ],
   "source": [
    "# Displays the samples for each different language as a percentage of a pie chart\n",
    "fig = plt.figure(figsize=(5, 5))\n",
    "\n",
    "# labels for the keys of our language dict\n",
    "labels = stemDict.keys()\n",
    "\n",
    "# Sizes of slice\n",
    "sizes =  []\n",
    "for i in list(stemDict.values()):\n",
    "    sizes.append(len(i))\n",
    "\n",
    "# Declare pie chart, where the slices will be ordered and plotted counter-clockwise:\n",
    "plt.pie(sizes, labels=labels, autopct='%1.1f%%',\n",
    "        shadow=True, startangle=90)\n",
    "\n",
    "# Equal aspect ratio ensures that pie is drawn as a circle.\n",
    "plt.axis('equal')  \n",
    "plt.show()"
   ]
  },
  {
   "cell_type": "code",
   "execution_count": 21,
   "metadata": {},
   "outputs": [
    {
     "name": "stdout",
     "output_type": "stream",
     "text": [
      "Progress: |██████████████████████████████████████████████████| 100.0% Complete\n"
     ]
    }
   ],
   "source": [
    "# Create a new dictionary\n",
    "langScores = {}\n",
    "\n",
    "# for every document we have in a given directory, get the vectorized language scores of the document\n",
    "# and add it to the dictionary as a value with the respective key being the name of the file\n",
    "# Here the language is NOT KNOWN\n",
    "\n",
    "# progress bar tracker\n",
    "l = len(os.listdir(sampleDir))\n",
    "printProgressBar(0,l,prefix = 'Progress:', suffix = 'Complete', length = 50)\n",
    "\n",
    "for file in range(len(os.listdir(sampleDir))):\n",
    "    filePath = sampleDir + '/' + os.listdir(sampleDir)[file]\n",
    "\n",
    "    content = readRawText(filePath)+'\\n'\n",
    "    freqs = freqsCalculator(content, stemDict)\n",
    "    languageScore = langScore(content, freqs)\n",
    "    langScores[os.listdir(sampleDir)[file]] = np.array(list(languageScore.values()))\n",
    "\n",
    "    printProgressBar(file+1, l ,prefix = 'Progress:', suffix = 'Complete', length = 50)"
   ]
  },
  {
   "cell_type": "code",
   "execution_count": 22,
   "metadata": {},
   "outputs": [
    {
     "data": {
      "application/vnd.plotly.v1+json": {
       "config": {
        "plotlyServerURL": "https://plot.ly"
       },
       "data": [
        {
         "hoverinfo": "text",
         "marker": {
          "color": [
           "rgb(9, 139, 118)",
           "rgb(10, 148, 119)",
           "rgb(10, 142, 120)",
           "rgb(20, 227, 3)",
           "rgb(11, 152, 114)",
           "rgb(0, 57, 94)",
           "rgb(11, 152, 125)",
           "rgb(11, 151, 122)",
           "rgb(0, 57, 94)",
           "rgb(11, 149, 121)",
           "rgb(7, 115, 129)",
           "rgb(12, 163, 112)",
           "rgb(11, 156, 124)",
           "rgb(0, 57, 94)",
           "rgb(7, 119, 110)",
           "rgb(0, 57, 94)",
           "rgb(11, 154, 113)",
           "rgb(10, 144, 110)",
           "rgb(11, 154, 118)",
           "rgb(0, 57, 94)",
           "rgb(12, 161, 127)",
           "rgb(12, 157, 118)",
           "rgb(10, 144, 110)",
           "rgb(16, 195, 22)",
           "rgb(16, 195, 22)",
           "rgb(16, 195, 45)",
           "rgb(17, 206, 21)",
           "rgb(17, 204, 12)",
           "rgb(7, 118, 69)",
           "rgb(17, 203, 17)",
           "rgb(17, 200, 13)",
           "rgb(15, 184, 60)",
           "rgb(16, 195, 40)",
           "rgb(19, 219, 36)",
           "rgb(8, 127, 9)",
           "rgb(19, 220, 42)",
           "rgb(21, 234, 0)",
           "rgb(18, 208, 38)",
           "rgb(20, 230, 60)",
           "rgb(20, 227, 45)",
           "rgb(20, 227, 45)",
           "rgb(19, 220, 68)",
           "rgb(20, 224, 9)",
           "rgb(18, 214, 25)",
           "rgb(21, 234, 4)",
           "rgb(20, 225, 41)",
           "rgb(11, 152, 117)",
           "rgb(10, 145, 81)",
           "rgb(11, 150, 81)",
           "rgb(58, 44, 94)",
           "rgb(230, 5, 93)",
           "rgb(231, 5, 93)",
           "rgb(240, 3, 93)",
           "rgb(219, 8, 93)",
           "rgb(249, 1, 93)",
           "rgb(198, 12, 93)",
           "rgb(240, 3, 93)",
           "rgb(255, 0, 93)",
           "rgb(222, 20, 102)",
           "rgb(219, 12, 96)",
           "rgb(203, 29, 94)",
           "rgb(17, 204, 34)",
           "rgb(13, 165, 224)",
           "rgb(15, 188, 138)",
           "rgb(20, 226, 211)",
           "rgb(19, 214, 233)",
           "rgb(17, 199, 211)",
           "rgb(17, 198, 182)",
           "rgb(23, 255, 255)",
           "rgb(19, 217, 187)",
           "rgb(17, 202, 188)",
           "rgb(19, 222, 172)",
           "rgb(17, 199, 194)",
           "rgb(18, 207, 222)",
           "rgb(9, 138, 111)",
           "rgb(0, 58, 94)",
           "rgb(0, 57, 94)",
           "rgb(0, 57, 94)",
           "rgb(0, 57, 95)",
           "rgb(0, 57, 94)",
           "rgb(0, 57, 94)",
           "rgb(0, 57, 94)",
           "rgb(0, 57, 94)",
           "rgb(0, 57, 96)",
           "rgb(0, 57, 94)",
           "rgb(0, 58, 95)"
          ],
          "opacity": 0.8,
          "size": 10
         },
         "mode": "markers",
         "text": [
          "3 landasan utama dienul Islam.txt",
          "33 SIKAP GHULUW DALAM TAK.txt",
          "4 kaidah mengetahui kesyirikan _ syaikh muhammad bin abdul wahhab.txt",
          "44 Ways To Support Jihad.txt",
          "5_106434014058905971.txt",
          "5_272825354958144765.txt",
          "5_317274998001631639.txt",
          "75. Biografi Syaikh Muham.txt",
          "81. Ibnu Baz  Antara Haki.txt",
          "Adab terhadap Al-quran.txt",
          "Adab-adabSeorangTholibterhadapDiriny.txt",
          "Adab-Berjalan-Ke-Masjid-Dan-Bacaan-S.txt",
          "Adil dalam Poligami.txt",
          "Agama Adalah Nasehat.txt",
          "Akhlak Mujahidin (1).txt",
          "Akhlak Mujahidin .txt",
          "Aku Melawan Teroris.txt",
          "Aku_Bangga_Menjadi_Muslim.txt",
          "Al-wala' wal baro'.txt",
          "AlBidayahWanNihayah.txt",
          "Aneka Kue Kukus.txt",
          "aneka-resep-masakan.txt",
          "aturan pasutri.txt",
          "chat-1.txt",
          "chat-10.txt",
          "chat-2.txt",
          "chat-3.txt",
          "chat-4.txt",
          "chat-5.txt",
          "chat-6.txt",
          "chat-7.txt",
          "chat-8.txt",
          "chat-9.txt",
          "DALEEL CV.txt",
          "english.txt",
          "englishSamp1.txt",
          "englishSamp10.txt",
          "englishSamp2.txt",
          "englishSamp3.txt",
          "englishSamp4.txt",
          "englishSamp5.txt",
          "englishSamp6.txt",
          "englishSamp7.txt",
          "englishSamp8.txt",
          "englishSamp9.txt",
          "englishTest.txt",
          "khalid.txt",
          "kjo-c3abshtc3ab-ajo-qc3ab-allahu-dhe-i-dc3abrguari-i-tij-na-premtuan-neve.txt",
          "Osman Abazi - mrekullit nga kurani dhe hadithi.txt",
          "russian.txt",
          "russianSamp1.txt",
          "russianSamp10.txt",
          "russianSamp2.txt",
          "russianSamp3.txt",
          "russianSamp4.txt",
          "russianSamp5.txt",
          "russianSamp6.txt",
          "russianSamp7.txt",
          "russianSamp8.txt",
          "russianSamp9.txt",
          "russianTest.txt",
          "sample.txt",
          "spanish.txt",
          "spanishSamp1.txt",
          "spanishSamp10.txt",
          "spanishSamp2.txt",
          "spanishSamp3.txt",
          "spanishSamp4.txt",
          "spanishSamp5.txt",
          "spanishSamp6.txt",
          "spanishSamp7.txt",
          "spanishSamp8.txt",
          "spanishSamp9.txt",
          "spanishTest.txt",
          "[Muhammad At-Tamimi] Kitab Tauhid.txt",
          "___ ___ ________ ______.txt",
          "___ ____ ______ _______.txt",
          "___ ____ ______ ________.txt",
          "___ _____ ___.txt",
          "___ ______ __ ___ ____ ________343190491.txt",
          "___ _______ ______.txt",
          "_____ ________ ___ ____ _____ _______ ____ ___.txt",
          "_______ __ ___ _____ _______.txt",
          "_______ ___ ____ _______.txt",
          "_______ _____.txt",
          "الارض مسطحة 3.txt"
         ],
         "type": "scatter3d",
         "x": [
          0.012857028191692373,
          0.014192684172145302,
          0.01331306790998818,
          0.026471500673744954,
          0.014821917819523238,
          0,
          0.014927556229438787,
          0.014648957047841351,
          0,
          0.014357581647340866,
          0.009129173245170742,
          0.016556592672900407,
          0.015476878091863237,
          0,
          0.00968219808487253,
          0,
          0.015193802994316313,
          0.013583325392177202,
          0.01524985270044811,
          0,
          0.016281736989209986,
          0.015624955373652171,
          0.013638501977035804,
          0.021477770441464625,
          0.021477770441464625,
          0.021418315381838096,
          0.02315993397404508,
          0.022872825691539245,
          0.009507501839919205,
          0.02264426044172376,
          0.02230681568805022,
          0.01979246228259518,
          0.021467038044831303,
          0.02518353345397372,
          0.010912196408589038,
          0.025359582068068088,
          0.027491052889311227,
          0.02345194718933257,
          0.02698160359571953,
          0.02640667560317,
          0.02640667560317,
          0.0254804282042865,
          0.025980112517428298,
          0.024475220140771865,
          0.027524137965530188,
          0.02614422090290506,
          0.014806882155815474,
          0.013765991136297432,
          0.014436765821962082,
          0.0760123829706139,
          0.29913368826782344,
          0.30021818793165583,
          0.31182279340527214,
          0.28428015340211077,
          0.3236816003511956,
          0.2580139168108476,
          0.311518872554,
          0.3308678708492795,
          0.28828276798407937,
          0.28437844178394417,
          0.264313360518726,
          0.022936993774637912,
          0.017073422073104947,
          0.02043206049850443,
          0.026566703848535343,
          0.02471408809711744,
          0.02229928882698551,
          0.022063831868146956,
          0.0310039838079846,
          0.02505056918571185,
          0.022705889764595172,
          0.025886013063260833,
          0.02228104821948018,
          0.02351194262010954,
          0.012711182303131443,
          0.00018744259394391753,
          0.0000056826689902287575,
          0,
          0.000017963277851757326,
          0,
          0.000006262721034362,
          0.000014166607993165406,
          0,
          0.000025711823677580255,
          0,
          0.00017042636127886115
         ],
         "y": [
          0.08033683235917027,
          0.08868927640300756,
          0.08317724761435946,
          0.16637751527444894,
          0.09266530583556123,
          0,
          0.0932507291043603,
          0.09152492109002683,
          0,
          0.08971071494323551,
          0.05691804930143539,
          0.1035424101376772,
          0.09669486260331514,
          0,
          0.06050953674424634,
          0,
          0.09499821745860684,
          0.0849400052805442,
          0.09531767755781717,
          0,
          0.1017191346687288,
          0.09766832870290415,
          0.08528513262534954,
          0.13497946483793372,
          0.13497946483793372,
          0.134446841702625,
          0.14551966893174104,
          0.14378058732686946,
          0.05970481866811178,
          0.14231739721767403,
          0.14023270868314203,
          0.12415951702621114,
          0.13478631159678317,
          0.1580841240494837,
          0.06891575370394537,
          0.15914597305397596,
          0.17278488789470703,
          0.1472285110402302,
          0.16917624113840718,
          0.16567948889131426,
          0.16567948889131426,
          0.15972257876809054,
          0.16325711164284934,
          0.15372256851977018,
          0.1729577111305057,
          0.16406681845122972,
          0.09254983171085479,
          0.08628113185489414,
          0.09048260237277621,
          -0.012886566066269171,
          -0.05071286921764217,
          -0.05089672711053609,
          -0.05286408439186956,
          -0.04819471295304199,
          -0.05487453707343926,
          -0.04374173332107302,
          -0.05281255994314456,
          -0.056092843169426816,
          -0.035783996104520835,
          -0.04405835440289279,
          -0.02707761224320653,
          0.14402804761400334,
          0.1060044464251462,
          0.12762526278580863,
          0.16553482840554987,
          0.15378133402929556,
          0.13880983749577755,
          0.13754107906279278,
          0.19301359792121786,
          0.1562027579701074,
          0.1415200857540992,
          0.1615390936786319,
          0.13881888766553058,
          0.1463276835880562,
          0.07947279686582126,
          0.001174024923799376,
          0.000037773038576167765,
          0,
          0.00011940297568194963,
          0,
          0.00004162867899388449,
          0.00008958801071965692,
          0,
          0.00017084070124239945,
          0,
          0.0010773025826750693
         ],
         "z": [
          0.045931623477850445,
          0.04886106283808048,
          0.05013005979180989,
          -0.17542701663497298,
          0.03879544723447762,
          0,
          0.059932098276991294,
          0.05476975353975233,
          0,
          0.051929026736456586,
          0.0678312921171203,
          0.034417677801820395,
          0.05866091162758964,
          0,
          0.03178340278335619,
          0,
          0.0375668994968535,
          0.03047361938083687,
          0.04632188511918599,
          0,
          0.06286804709386187,
          0.045762441751162564,
          0.030810830974261547,
          -0.1390867504093075,
          -0.1390867504093075,
          -0.09449722498605592,
          -0.1412094488590308,
          -0.15750309479792662,
          -0.04873738302732912,
          -0.14858575907043606,
          -0.15641673900656766,
          -0.06465175824591084,
          -0.10406312988202482,
          -0.11174661701325214,
          -0.1643261051893183,
          -0.10049929723470472,
          -0.18199667154332827,
          -0.10796742387315611,
          -0.06553700908350074,
          -0.09419395712468928,
          -0.09419395712468928,
          -0.05043317591812524,
          -0.16328571339511383,
          -0.13216317750262235,
          -0.1724497857691946,
          -0.10271484712554767,
          0.044730206595827875,
          -0.024415887570234787,
          -0.02484219532682434,
          -0.0006319260993557606,
          -0.0024868367156186417,
          -0.0024958526629621546,
          -0.002592327116004102,
          -0.0023633524097396467,
          -0.0026909148634668757,
          -0.002144989035441944,
          -0.002589800481388117,
          -0.0027506576541451366,
          0.015849856343559534,
          0.0034251471096673133,
          0.000362978012897345,
          -0.1145927879123784,
          0.24964091266557062,
          0.08522196500712852,
          0.22465045978851858,
          0.26738022146592627,
          0.22613097289458817,
          0.16898452440289294,
          0.30931507730922614,
          0.17989864974744277,
          0.1804201654210411,
          0.1506040367483191,
          0.19185638370154964,
          0.24697809427312856,
          0.03226388398277061,
          0.00023200244852731748,
          0.000667560365732003,
          0,
          0.0021102007442425287,
          0,
          0.000735700839053798,
          0.0005309694068880288,
          0,
          0.002989970818065802,
          0,
          0.002475927313999418
         ]
        }
       ],
       "layout": {
        "scene": {
         "xaxis": {
          "title": {
           "text": "Principal Component 1"
          }
         },
         "yaxis": {
          "title": {
           "text": "Principal Component 2"
          }
         },
         "zaxis": {
          "title": {
           "text": "Principal Component 3"
          }
         }
        },
        "template": {
         "data": {
          "bar": [
           {
            "error_x": {
             "color": "#2a3f5f"
            },
            "error_y": {
             "color": "#2a3f5f"
            },
            "marker": {
             "line": {
              "color": "#E5ECF6",
              "width": 0.5
             },
             "pattern": {
              "fillmode": "overlay",
              "size": 10,
              "solidity": 0.2
             }
            },
            "type": "bar"
           }
          ],
          "barpolar": [
           {
            "marker": {
             "line": {
              "color": "#E5ECF6",
              "width": 0.5
             },
             "pattern": {
              "fillmode": "overlay",
              "size": 10,
              "solidity": 0.2
             }
            },
            "type": "barpolar"
           }
          ],
          "carpet": [
           {
            "aaxis": {
             "endlinecolor": "#2a3f5f",
             "gridcolor": "white",
             "linecolor": "white",
             "minorgridcolor": "white",
             "startlinecolor": "#2a3f5f"
            },
            "baxis": {
             "endlinecolor": "#2a3f5f",
             "gridcolor": "white",
             "linecolor": "white",
             "minorgridcolor": "white",
             "startlinecolor": "#2a3f5f"
            },
            "type": "carpet"
           }
          ],
          "choropleth": [
           {
            "colorbar": {
             "outlinewidth": 0,
             "ticks": ""
            },
            "type": "choropleth"
           }
          ],
          "contour": [
           {
            "colorbar": {
             "outlinewidth": 0,
             "ticks": ""
            },
            "colorscale": [
             [
              0,
              "#0d0887"
             ],
             [
              0.1111111111111111,
              "#46039f"
             ],
             [
              0.2222222222222222,
              "#7201a8"
             ],
             [
              0.3333333333333333,
              "#9c179e"
             ],
             [
              0.4444444444444444,
              "#bd3786"
             ],
             [
              0.5555555555555556,
              "#d8576b"
             ],
             [
              0.6666666666666666,
              "#ed7953"
             ],
             [
              0.7777777777777778,
              "#fb9f3a"
             ],
             [
              0.8888888888888888,
              "#fdca26"
             ],
             [
              1,
              "#f0f921"
             ]
            ],
            "type": "contour"
           }
          ],
          "contourcarpet": [
           {
            "colorbar": {
             "outlinewidth": 0,
             "ticks": ""
            },
            "type": "contourcarpet"
           }
          ],
          "heatmap": [
           {
            "colorbar": {
             "outlinewidth": 0,
             "ticks": ""
            },
            "colorscale": [
             [
              0,
              "#0d0887"
             ],
             [
              0.1111111111111111,
              "#46039f"
             ],
             [
              0.2222222222222222,
              "#7201a8"
             ],
             [
              0.3333333333333333,
              "#9c179e"
             ],
             [
              0.4444444444444444,
              "#bd3786"
             ],
             [
              0.5555555555555556,
              "#d8576b"
             ],
             [
              0.6666666666666666,
              "#ed7953"
             ],
             [
              0.7777777777777778,
              "#fb9f3a"
             ],
             [
              0.8888888888888888,
              "#fdca26"
             ],
             [
              1,
              "#f0f921"
             ]
            ],
            "type": "heatmap"
           }
          ],
          "heatmapgl": [
           {
            "colorbar": {
             "outlinewidth": 0,
             "ticks": ""
            },
            "colorscale": [
             [
              0,
              "#0d0887"
             ],
             [
              0.1111111111111111,
              "#46039f"
             ],
             [
              0.2222222222222222,
              "#7201a8"
             ],
             [
              0.3333333333333333,
              "#9c179e"
             ],
             [
              0.4444444444444444,
              "#bd3786"
             ],
             [
              0.5555555555555556,
              "#d8576b"
             ],
             [
              0.6666666666666666,
              "#ed7953"
             ],
             [
              0.7777777777777778,
              "#fb9f3a"
             ],
             [
              0.8888888888888888,
              "#fdca26"
             ],
             [
              1,
              "#f0f921"
             ]
            ],
            "type": "heatmapgl"
           }
          ],
          "histogram": [
           {
            "marker": {
             "pattern": {
              "fillmode": "overlay",
              "size": 10,
              "solidity": 0.2
             }
            },
            "type": "histogram"
           }
          ],
          "histogram2d": [
           {
            "colorbar": {
             "outlinewidth": 0,
             "ticks": ""
            },
            "colorscale": [
             [
              0,
              "#0d0887"
             ],
             [
              0.1111111111111111,
              "#46039f"
             ],
             [
              0.2222222222222222,
              "#7201a8"
             ],
             [
              0.3333333333333333,
              "#9c179e"
             ],
             [
              0.4444444444444444,
              "#bd3786"
             ],
             [
              0.5555555555555556,
              "#d8576b"
             ],
             [
              0.6666666666666666,
              "#ed7953"
             ],
             [
              0.7777777777777778,
              "#fb9f3a"
             ],
             [
              0.8888888888888888,
              "#fdca26"
             ],
             [
              1,
              "#f0f921"
             ]
            ],
            "type": "histogram2d"
           }
          ],
          "histogram2dcontour": [
           {
            "colorbar": {
             "outlinewidth": 0,
             "ticks": ""
            },
            "colorscale": [
             [
              0,
              "#0d0887"
             ],
             [
              0.1111111111111111,
              "#46039f"
             ],
             [
              0.2222222222222222,
              "#7201a8"
             ],
             [
              0.3333333333333333,
              "#9c179e"
             ],
             [
              0.4444444444444444,
              "#bd3786"
             ],
             [
              0.5555555555555556,
              "#d8576b"
             ],
             [
              0.6666666666666666,
              "#ed7953"
             ],
             [
              0.7777777777777778,
              "#fb9f3a"
             ],
             [
              0.8888888888888888,
              "#fdca26"
             ],
             [
              1,
              "#f0f921"
             ]
            ],
            "type": "histogram2dcontour"
           }
          ],
          "mesh3d": [
           {
            "colorbar": {
             "outlinewidth": 0,
             "ticks": ""
            },
            "type": "mesh3d"
           }
          ],
          "parcoords": [
           {
            "line": {
             "colorbar": {
              "outlinewidth": 0,
              "ticks": ""
             }
            },
            "type": "parcoords"
           }
          ],
          "pie": [
           {
            "automargin": true,
            "type": "pie"
           }
          ],
          "scatter": [
           {
            "fillpattern": {
             "fillmode": "overlay",
             "size": 10,
             "solidity": 0.2
            },
            "type": "scatter"
           }
          ],
          "scatter3d": [
           {
            "line": {
             "colorbar": {
              "outlinewidth": 0,
              "ticks": ""
             }
            },
            "marker": {
             "colorbar": {
              "outlinewidth": 0,
              "ticks": ""
             }
            },
            "type": "scatter3d"
           }
          ],
          "scattercarpet": [
           {
            "marker": {
             "colorbar": {
              "outlinewidth": 0,
              "ticks": ""
             }
            },
            "type": "scattercarpet"
           }
          ],
          "scattergeo": [
           {
            "marker": {
             "colorbar": {
              "outlinewidth": 0,
              "ticks": ""
             }
            },
            "type": "scattergeo"
           }
          ],
          "scattergl": [
           {
            "marker": {
             "colorbar": {
              "outlinewidth": 0,
              "ticks": ""
             }
            },
            "type": "scattergl"
           }
          ],
          "scattermapbox": [
           {
            "marker": {
             "colorbar": {
              "outlinewidth": 0,
              "ticks": ""
             }
            },
            "type": "scattermapbox"
           }
          ],
          "scatterpolar": [
           {
            "marker": {
             "colorbar": {
              "outlinewidth": 0,
              "ticks": ""
             }
            },
            "type": "scatterpolar"
           }
          ],
          "scatterpolargl": [
           {
            "marker": {
             "colorbar": {
              "outlinewidth": 0,
              "ticks": ""
             }
            },
            "type": "scatterpolargl"
           }
          ],
          "scatterternary": [
           {
            "marker": {
             "colorbar": {
              "outlinewidth": 0,
              "ticks": ""
             }
            },
            "type": "scatterternary"
           }
          ],
          "surface": [
           {
            "colorbar": {
             "outlinewidth": 0,
             "ticks": ""
            },
            "colorscale": [
             [
              0,
              "#0d0887"
             ],
             [
              0.1111111111111111,
              "#46039f"
             ],
             [
              0.2222222222222222,
              "#7201a8"
             ],
             [
              0.3333333333333333,
              "#9c179e"
             ],
             [
              0.4444444444444444,
              "#bd3786"
             ],
             [
              0.5555555555555556,
              "#d8576b"
             ],
             [
              0.6666666666666666,
              "#ed7953"
             ],
             [
              0.7777777777777778,
              "#fb9f3a"
             ],
             [
              0.8888888888888888,
              "#fdca26"
             ],
             [
              1,
              "#f0f921"
             ]
            ],
            "type": "surface"
           }
          ],
          "table": [
           {
            "cells": {
             "fill": {
              "color": "#EBF0F8"
             },
             "line": {
              "color": "white"
             }
            },
            "header": {
             "fill": {
              "color": "#C8D4E3"
             },
             "line": {
              "color": "white"
             }
            },
            "type": "table"
           }
          ]
         },
         "layout": {
          "annotationdefaults": {
           "arrowcolor": "#2a3f5f",
           "arrowhead": 0,
           "arrowwidth": 1
          },
          "autotypenumbers": "strict",
          "coloraxis": {
           "colorbar": {
            "outlinewidth": 0,
            "ticks": ""
           }
          },
          "colorscale": {
           "diverging": [
            [
             0,
             "#8e0152"
            ],
            [
             0.1,
             "#c51b7d"
            ],
            [
             0.2,
             "#de77ae"
            ],
            [
             0.3,
             "#f1b6da"
            ],
            [
             0.4,
             "#fde0ef"
            ],
            [
             0.5,
             "#f7f7f7"
            ],
            [
             0.6,
             "#e6f5d0"
            ],
            [
             0.7,
             "#b8e186"
            ],
            [
             0.8,
             "#7fbc41"
            ],
            [
             0.9,
             "#4d9221"
            ],
            [
             1,
             "#276419"
            ]
           ],
           "sequential": [
            [
             0,
             "#0d0887"
            ],
            [
             0.1111111111111111,
             "#46039f"
            ],
            [
             0.2222222222222222,
             "#7201a8"
            ],
            [
             0.3333333333333333,
             "#9c179e"
            ],
            [
             0.4444444444444444,
             "#bd3786"
            ],
            [
             0.5555555555555556,
             "#d8576b"
            ],
            [
             0.6666666666666666,
             "#ed7953"
            ],
            [
             0.7777777777777778,
             "#fb9f3a"
            ],
            [
             0.8888888888888888,
             "#fdca26"
            ],
            [
             1,
             "#f0f921"
            ]
           ],
           "sequentialminus": [
            [
             0,
             "#0d0887"
            ],
            [
             0.1111111111111111,
             "#46039f"
            ],
            [
             0.2222222222222222,
             "#7201a8"
            ],
            [
             0.3333333333333333,
             "#9c179e"
            ],
            [
             0.4444444444444444,
             "#bd3786"
            ],
            [
             0.5555555555555556,
             "#d8576b"
            ],
            [
             0.6666666666666666,
             "#ed7953"
            ],
            [
             0.7777777777777778,
             "#fb9f3a"
            ],
            [
             0.8888888888888888,
             "#fdca26"
            ],
            [
             1,
             "#f0f921"
            ]
           ]
          },
          "colorway": [
           "#636efa",
           "#EF553B",
           "#00cc96",
           "#ab63fa",
           "#FFA15A",
           "#19d3f3",
           "#FF6692",
           "#B6E880",
           "#FF97FF",
           "#FECB52"
          ],
          "font": {
           "color": "#2a3f5f"
          },
          "geo": {
           "bgcolor": "white",
           "lakecolor": "white",
           "landcolor": "#E5ECF6",
           "showlakes": true,
           "showland": true,
           "subunitcolor": "white"
          },
          "hoverlabel": {
           "align": "left"
          },
          "hovermode": "closest",
          "mapbox": {
           "style": "light"
          },
          "paper_bgcolor": "white",
          "plot_bgcolor": "#E5ECF6",
          "polar": {
           "angularaxis": {
            "gridcolor": "white",
            "linecolor": "white",
            "ticks": ""
           },
           "bgcolor": "#E5ECF6",
           "radialaxis": {
            "gridcolor": "white",
            "linecolor": "white",
            "ticks": ""
           }
          },
          "scene": {
           "xaxis": {
            "backgroundcolor": "#E5ECF6",
            "gridcolor": "white",
            "gridwidth": 2,
            "linecolor": "white",
            "showbackground": true,
            "ticks": "",
            "zerolinecolor": "white"
           },
           "yaxis": {
            "backgroundcolor": "#E5ECF6",
            "gridcolor": "white",
            "gridwidth": 2,
            "linecolor": "white",
            "showbackground": true,
            "ticks": "",
            "zerolinecolor": "white"
           },
           "zaxis": {
            "backgroundcolor": "#E5ECF6",
            "gridcolor": "white",
            "gridwidth": 2,
            "linecolor": "white",
            "showbackground": true,
            "ticks": "",
            "zerolinecolor": "white"
           }
          },
          "shapedefaults": {
           "line": {
            "color": "#2a3f5f"
           }
          },
          "ternary": {
           "aaxis": {
            "gridcolor": "white",
            "linecolor": "white",
            "ticks": ""
           },
           "baxis": {
            "gridcolor": "white",
            "linecolor": "white",
            "ticks": ""
           },
           "bgcolor": "#E5ECF6",
           "caxis": {
            "gridcolor": "white",
            "linecolor": "white",
            "ticks": ""
           }
          },
          "title": {
           "x": 0.05
          },
          "xaxis": {
           "automargin": true,
           "gridcolor": "white",
           "linecolor": "white",
           "ticks": "",
           "title": {
            "standoff": 15
           },
           "zerolinecolor": "white",
           "zerolinewidth": 2
          },
          "yaxis": {
           "automargin": true,
           "gridcolor": "white",
           "linecolor": "white",
           "ticks": "",
           "title": {
            "standoff": 15
           },
           "zerolinecolor": "white",
           "zerolinewidth": 2
          }
         }
        },
        "title": {
         "text": "3D Projection"
        }
       }
      }
     },
     "metadata": {},
     "output_type": "display_data"
    },
    {
     "data": {
      "application/vnd.plotly.v1+json": {
       "config": {
        "plotlyServerURL": "https://plot.ly"
       },
       "data": [
        {
         "hoverinfo": "text",
         "marker": {
          "color": [
           "rgb(9, 139, 128)",
           "rgb(10, 148, 128)",
           "rgb(10, 142, 128)",
           "rgb(20, 227, 128)",
           "rgb(11, 152, 128)",
           "rgb(0, 57, 128)",
           "rgb(11, 152, 128)",
           "rgb(11, 151, 128)",
           "rgb(0, 57, 128)",
           "rgb(11, 149, 128)",
           "rgb(7, 115, 128)",
           "rgb(12, 163, 128)",
           "rgb(11, 156, 128)",
           "rgb(0, 57, 128)",
           "rgb(7, 119, 128)",
           "rgb(0, 57, 128)",
           "rgb(11, 154, 128)",
           "rgb(10, 144, 128)",
           "rgb(11, 154, 128)",
           "rgb(0, 57, 128)",
           "rgb(12, 161, 128)",
           "rgb(12, 157, 128)",
           "rgb(10, 144, 128)",
           "rgb(16, 195, 128)",
           "rgb(16, 195, 128)",
           "rgb(16, 195, 128)",
           "rgb(17, 206, 128)",
           "rgb(17, 204, 128)",
           "rgb(7, 118, 128)",
           "rgb(17, 203, 128)",
           "rgb(17, 200, 128)",
           "rgb(15, 184, 128)",
           "rgb(16, 195, 128)",
           "rgb(19, 219, 128)",
           "rgb(8, 127, 128)",
           "rgb(19, 220, 128)",
           "rgb(21, 234, 128)",
           "rgb(18, 208, 128)",
           "rgb(20, 230, 128)",
           "rgb(20, 227, 128)",
           "rgb(20, 227, 128)",
           "rgb(19, 220, 128)",
           "rgb(20, 224, 128)",
           "rgb(18, 214, 128)",
           "rgb(21, 234, 128)",
           "rgb(20, 225, 128)",
           "rgb(11, 152, 128)",
           "rgb(10, 145, 128)",
           "rgb(11, 150, 128)",
           "rgb(58, 44, 128)",
           "rgb(230, 5, 128)",
           "rgb(231, 5, 128)",
           "rgb(240, 3, 128)",
           "rgb(219, 8, 128)",
           "rgb(249, 1, 128)",
           "rgb(198, 12, 128)",
           "rgb(240, 3, 128)",
           "rgb(255, 0, 128)",
           "rgb(222, 20, 128)",
           "rgb(219, 12, 128)",
           "rgb(203, 29, 128)",
           "rgb(17, 204, 128)",
           "rgb(13, 165, 128)",
           "rgb(15, 188, 128)",
           "rgb(20, 226, 128)",
           "rgb(19, 214, 128)",
           "rgb(17, 199, 128)",
           "rgb(17, 198, 128)",
           "rgb(23, 255, 128)",
           "rgb(19, 217, 128)",
           "rgb(17, 202, 128)",
           "rgb(19, 222, 128)",
           "rgb(17, 199, 128)",
           "rgb(18, 207, 128)",
           "rgb(9, 138, 128)",
           "rgb(0, 58, 128)",
           "rgb(0, 57, 128)",
           "rgb(0, 57, 128)",
           "rgb(0, 57, 128)",
           "rgb(0, 57, 128)",
           "rgb(0, 57, 128)",
           "rgb(0, 57, 128)",
           "rgb(0, 57, 128)",
           "rgb(0, 57, 128)",
           "rgb(0, 57, 128)",
           "rgb(0, 58, 128)"
          ],
          "opacity": 0.8,
          "size": 10
         },
         "mode": "markers",
         "text": [
          "3 landasan utama dienul Islam.txt",
          "33 SIKAP GHULUW DALAM TAK.txt",
          "4 kaidah mengetahui kesyirikan _ syaikh muhammad bin abdul wahhab.txt",
          "44 Ways To Support Jihad.txt",
          "5_106434014058905971.txt",
          "5_272825354958144765.txt",
          "5_317274998001631639.txt",
          "75. Biografi Syaikh Muham.txt",
          "81. Ibnu Baz  Antara Haki.txt",
          "Adab terhadap Al-quran.txt",
          "Adab-adabSeorangTholibterhadapDiriny.txt",
          "Adab-Berjalan-Ke-Masjid-Dan-Bacaan-S.txt",
          "Adil dalam Poligami.txt",
          "Agama Adalah Nasehat.txt",
          "Akhlak Mujahidin (1).txt",
          "Akhlak Mujahidin .txt",
          "Aku Melawan Teroris.txt",
          "Aku_Bangga_Menjadi_Muslim.txt",
          "Al-wala' wal baro'.txt",
          "AlBidayahWanNihayah.txt",
          "Aneka Kue Kukus.txt",
          "aneka-resep-masakan.txt",
          "aturan pasutri.txt",
          "chat-1.txt",
          "chat-10.txt",
          "chat-2.txt",
          "chat-3.txt",
          "chat-4.txt",
          "chat-5.txt",
          "chat-6.txt",
          "chat-7.txt",
          "chat-8.txt",
          "chat-9.txt",
          "DALEEL CV.txt",
          "english.txt",
          "englishSamp1.txt",
          "englishSamp10.txt",
          "englishSamp2.txt",
          "englishSamp3.txt",
          "englishSamp4.txt",
          "englishSamp5.txt",
          "englishSamp6.txt",
          "englishSamp7.txt",
          "englishSamp8.txt",
          "englishSamp9.txt",
          "englishTest.txt",
          "khalid.txt",
          "kjo-c3abshtc3ab-ajo-qc3ab-allahu-dhe-i-dc3abrguari-i-tij-na-premtuan-neve.txt",
          "Osman Abazi - mrekullit nga kurani dhe hadithi.txt",
          "russian.txt",
          "russianSamp1.txt",
          "russianSamp10.txt",
          "russianSamp2.txt",
          "russianSamp3.txt",
          "russianSamp4.txt",
          "russianSamp5.txt",
          "russianSamp6.txt",
          "russianSamp7.txt",
          "russianSamp8.txt",
          "russianSamp9.txt",
          "russianTest.txt",
          "sample.txt",
          "spanish.txt",
          "spanishSamp1.txt",
          "spanishSamp10.txt",
          "spanishSamp2.txt",
          "spanishSamp3.txt",
          "spanishSamp4.txt",
          "spanishSamp5.txt",
          "spanishSamp6.txt",
          "spanishSamp7.txt",
          "spanishSamp8.txt",
          "spanishSamp9.txt",
          "spanishTest.txt",
          "[Muhammad At-Tamimi] Kitab Tauhid.txt",
          "___ ___ ________ ______.txt",
          "___ ____ ______ _______.txt",
          "___ ____ ______ ________.txt",
          "___ _____ ___.txt",
          "___ ______ __ ___ ____ ________343190491.txt",
          "___ _______ ______.txt",
          "_____ ________ ___ ____ _____ _______ ____ ___.txt",
          "_______ __ ___ _____ _______.txt",
          "_______ ___ ____ _______.txt",
          "_______ _____.txt",
          "الارض مسطحة 3.txt"
         ],
         "type": "scatter",
         "x": [
          0.012857028191692373,
          0.014192684172145302,
          0.01331306790998818,
          0.026471500673744954,
          0.014821917819523238,
          0,
          0.014927556229438787,
          0.014648957047841351,
          0,
          0.014357581647340866,
          0.009129173245170742,
          0.016556592672900407,
          0.015476878091863237,
          0,
          0.00968219808487253,
          0,
          0.015193802994316313,
          0.013583325392177202,
          0.01524985270044811,
          0,
          0.016281736989209986,
          0.015624955373652171,
          0.013638501977035804,
          0.021477770441464625,
          0.021477770441464625,
          0.021418315381838096,
          0.02315993397404508,
          0.022872825691539245,
          0.009507501839919205,
          0.02264426044172376,
          0.02230681568805022,
          0.01979246228259518,
          0.021467038044831303,
          0.02518353345397372,
          0.010912196408589038,
          0.025359582068068088,
          0.027491052889311227,
          0.02345194718933257,
          0.02698160359571953,
          0.02640667560317,
          0.02640667560317,
          0.0254804282042865,
          0.025980112517428298,
          0.024475220140771865,
          0.027524137965530188,
          0.02614422090290506,
          0.014806882155815474,
          0.013765991136297432,
          0.014436765821962082,
          0.0760123829706139,
          0.29913368826782344,
          0.30021818793165583,
          0.31182279340527214,
          0.28428015340211077,
          0.3236816003511956,
          0.2580139168108476,
          0.311518872554,
          0.3308678708492795,
          0.28828276798407937,
          0.28437844178394417,
          0.264313360518726,
          0.022936993774637912,
          0.017073422073104947,
          0.02043206049850443,
          0.026566703848535343,
          0.02471408809711744,
          0.02229928882698551,
          0.022063831868146956,
          0.0310039838079846,
          0.02505056918571185,
          0.022705889764595172,
          0.025886013063260833,
          0.02228104821948018,
          0.02351194262010954,
          0.012711182303131443,
          0.00018744259394391753,
          0.0000056826689902287575,
          0,
          0.000017963277851757326,
          0,
          0.000006262721034362,
          0.000014166607993165406,
          0,
          0.000025711823677580255,
          0,
          0.00017042636127886115
         ],
         "y": [
          0.08033683235917027,
          0.08868927640300756,
          0.08317724761435946,
          0.16637751527444894,
          0.09266530583556123,
          0,
          0.0932507291043603,
          0.09152492109002683,
          0,
          0.08971071494323551,
          0.05691804930143539,
          0.1035424101376772,
          0.09669486260331514,
          0,
          0.06050953674424634,
          0,
          0.09499821745860684,
          0.0849400052805442,
          0.09531767755781717,
          0,
          0.1017191346687288,
          0.09766832870290415,
          0.08528513262534954,
          0.13497946483793372,
          0.13497946483793372,
          0.134446841702625,
          0.14551966893174104,
          0.14378058732686946,
          0.05970481866811178,
          0.14231739721767403,
          0.14023270868314203,
          0.12415951702621114,
          0.13478631159678317,
          0.1580841240494837,
          0.06891575370394537,
          0.15914597305397596,
          0.17278488789470703,
          0.1472285110402302,
          0.16917624113840718,
          0.16567948889131426,
          0.16567948889131426,
          0.15972257876809054,
          0.16325711164284934,
          0.15372256851977018,
          0.1729577111305057,
          0.16406681845122972,
          0.09254983171085479,
          0.08628113185489414,
          0.09048260237277621,
          -0.012886566066269171,
          -0.05071286921764217,
          -0.05089672711053609,
          -0.05286408439186956,
          -0.04819471295304199,
          -0.05487453707343926,
          -0.04374173332107302,
          -0.05281255994314456,
          -0.056092843169426816,
          -0.035783996104520835,
          -0.04405835440289279,
          -0.02707761224320653,
          0.14402804761400334,
          0.1060044464251462,
          0.12762526278580863,
          0.16553482840554987,
          0.15378133402929556,
          0.13880983749577755,
          0.13754107906279278,
          0.19301359792121786,
          0.1562027579701074,
          0.1415200857540992,
          0.1615390936786319,
          0.13881888766553058,
          0.1463276835880562,
          0.07947279686582126,
          0.001174024923799376,
          0.000037773038576167765,
          0,
          0.00011940297568194963,
          0,
          0.00004162867899388449,
          0.00008958801071965692,
          0,
          0.00017084070124239945,
          0,
          0.0010773025826750693
         ]
        }
       ],
       "layout": {
        "template": {
         "data": {
          "bar": [
           {
            "error_x": {
             "color": "#2a3f5f"
            },
            "error_y": {
             "color": "#2a3f5f"
            },
            "marker": {
             "line": {
              "color": "#E5ECF6",
              "width": 0.5
             },
             "pattern": {
              "fillmode": "overlay",
              "size": 10,
              "solidity": 0.2
             }
            },
            "type": "bar"
           }
          ],
          "barpolar": [
           {
            "marker": {
             "line": {
              "color": "#E5ECF6",
              "width": 0.5
             },
             "pattern": {
              "fillmode": "overlay",
              "size": 10,
              "solidity": 0.2
             }
            },
            "type": "barpolar"
           }
          ],
          "carpet": [
           {
            "aaxis": {
             "endlinecolor": "#2a3f5f",
             "gridcolor": "white",
             "linecolor": "white",
             "minorgridcolor": "white",
             "startlinecolor": "#2a3f5f"
            },
            "baxis": {
             "endlinecolor": "#2a3f5f",
             "gridcolor": "white",
             "linecolor": "white",
             "minorgridcolor": "white",
             "startlinecolor": "#2a3f5f"
            },
            "type": "carpet"
           }
          ],
          "choropleth": [
           {
            "colorbar": {
             "outlinewidth": 0,
             "ticks": ""
            },
            "type": "choropleth"
           }
          ],
          "contour": [
           {
            "colorbar": {
             "outlinewidth": 0,
             "ticks": ""
            },
            "colorscale": [
             [
              0,
              "#0d0887"
             ],
             [
              0.1111111111111111,
              "#46039f"
             ],
             [
              0.2222222222222222,
              "#7201a8"
             ],
             [
              0.3333333333333333,
              "#9c179e"
             ],
             [
              0.4444444444444444,
              "#bd3786"
             ],
             [
              0.5555555555555556,
              "#d8576b"
             ],
             [
              0.6666666666666666,
              "#ed7953"
             ],
             [
              0.7777777777777778,
              "#fb9f3a"
             ],
             [
              0.8888888888888888,
              "#fdca26"
             ],
             [
              1,
              "#f0f921"
             ]
            ],
            "type": "contour"
           }
          ],
          "contourcarpet": [
           {
            "colorbar": {
             "outlinewidth": 0,
             "ticks": ""
            },
            "type": "contourcarpet"
           }
          ],
          "heatmap": [
           {
            "colorbar": {
             "outlinewidth": 0,
             "ticks": ""
            },
            "colorscale": [
             [
              0,
              "#0d0887"
             ],
             [
              0.1111111111111111,
              "#46039f"
             ],
             [
              0.2222222222222222,
              "#7201a8"
             ],
             [
              0.3333333333333333,
              "#9c179e"
             ],
             [
              0.4444444444444444,
              "#bd3786"
             ],
             [
              0.5555555555555556,
              "#d8576b"
             ],
             [
              0.6666666666666666,
              "#ed7953"
             ],
             [
              0.7777777777777778,
              "#fb9f3a"
             ],
             [
              0.8888888888888888,
              "#fdca26"
             ],
             [
              1,
              "#f0f921"
             ]
            ],
            "type": "heatmap"
           }
          ],
          "heatmapgl": [
           {
            "colorbar": {
             "outlinewidth": 0,
             "ticks": ""
            },
            "colorscale": [
             [
              0,
              "#0d0887"
             ],
             [
              0.1111111111111111,
              "#46039f"
             ],
             [
              0.2222222222222222,
              "#7201a8"
             ],
             [
              0.3333333333333333,
              "#9c179e"
             ],
             [
              0.4444444444444444,
              "#bd3786"
             ],
             [
              0.5555555555555556,
              "#d8576b"
             ],
             [
              0.6666666666666666,
              "#ed7953"
             ],
             [
              0.7777777777777778,
              "#fb9f3a"
             ],
             [
              0.8888888888888888,
              "#fdca26"
             ],
             [
              1,
              "#f0f921"
             ]
            ],
            "type": "heatmapgl"
           }
          ],
          "histogram": [
           {
            "marker": {
             "pattern": {
              "fillmode": "overlay",
              "size": 10,
              "solidity": 0.2
             }
            },
            "type": "histogram"
           }
          ],
          "histogram2d": [
           {
            "colorbar": {
             "outlinewidth": 0,
             "ticks": ""
            },
            "colorscale": [
             [
              0,
              "#0d0887"
             ],
             [
              0.1111111111111111,
              "#46039f"
             ],
             [
              0.2222222222222222,
              "#7201a8"
             ],
             [
              0.3333333333333333,
              "#9c179e"
             ],
             [
              0.4444444444444444,
              "#bd3786"
             ],
             [
              0.5555555555555556,
              "#d8576b"
             ],
             [
              0.6666666666666666,
              "#ed7953"
             ],
             [
              0.7777777777777778,
              "#fb9f3a"
             ],
             [
              0.8888888888888888,
              "#fdca26"
             ],
             [
              1,
              "#f0f921"
             ]
            ],
            "type": "histogram2d"
           }
          ],
          "histogram2dcontour": [
           {
            "colorbar": {
             "outlinewidth": 0,
             "ticks": ""
            },
            "colorscale": [
             [
              0,
              "#0d0887"
             ],
             [
              0.1111111111111111,
              "#46039f"
             ],
             [
              0.2222222222222222,
              "#7201a8"
             ],
             [
              0.3333333333333333,
              "#9c179e"
             ],
             [
              0.4444444444444444,
              "#bd3786"
             ],
             [
              0.5555555555555556,
              "#d8576b"
             ],
             [
              0.6666666666666666,
              "#ed7953"
             ],
             [
              0.7777777777777778,
              "#fb9f3a"
             ],
             [
              0.8888888888888888,
              "#fdca26"
             ],
             [
              1,
              "#f0f921"
             ]
            ],
            "type": "histogram2dcontour"
           }
          ],
          "mesh3d": [
           {
            "colorbar": {
             "outlinewidth": 0,
             "ticks": ""
            },
            "type": "mesh3d"
           }
          ],
          "parcoords": [
           {
            "line": {
             "colorbar": {
              "outlinewidth": 0,
              "ticks": ""
             }
            },
            "type": "parcoords"
           }
          ],
          "pie": [
           {
            "automargin": true,
            "type": "pie"
           }
          ],
          "scatter": [
           {
            "fillpattern": {
             "fillmode": "overlay",
             "size": 10,
             "solidity": 0.2
            },
            "type": "scatter"
           }
          ],
          "scatter3d": [
           {
            "line": {
             "colorbar": {
              "outlinewidth": 0,
              "ticks": ""
             }
            },
            "marker": {
             "colorbar": {
              "outlinewidth": 0,
              "ticks": ""
             }
            },
            "type": "scatter3d"
           }
          ],
          "scattercarpet": [
           {
            "marker": {
             "colorbar": {
              "outlinewidth": 0,
              "ticks": ""
             }
            },
            "type": "scattercarpet"
           }
          ],
          "scattergeo": [
           {
            "marker": {
             "colorbar": {
              "outlinewidth": 0,
              "ticks": ""
             }
            },
            "type": "scattergeo"
           }
          ],
          "scattergl": [
           {
            "marker": {
             "colorbar": {
              "outlinewidth": 0,
              "ticks": ""
             }
            },
            "type": "scattergl"
           }
          ],
          "scattermapbox": [
           {
            "marker": {
             "colorbar": {
              "outlinewidth": 0,
              "ticks": ""
             }
            },
            "type": "scattermapbox"
           }
          ],
          "scatterpolar": [
           {
            "marker": {
             "colorbar": {
              "outlinewidth": 0,
              "ticks": ""
             }
            },
            "type": "scatterpolar"
           }
          ],
          "scatterpolargl": [
           {
            "marker": {
             "colorbar": {
              "outlinewidth": 0,
              "ticks": ""
             }
            },
            "type": "scatterpolargl"
           }
          ],
          "scatterternary": [
           {
            "marker": {
             "colorbar": {
              "outlinewidth": 0,
              "ticks": ""
             }
            },
            "type": "scatterternary"
           }
          ],
          "surface": [
           {
            "colorbar": {
             "outlinewidth": 0,
             "ticks": ""
            },
            "colorscale": [
             [
              0,
              "#0d0887"
             ],
             [
              0.1111111111111111,
              "#46039f"
             ],
             [
              0.2222222222222222,
              "#7201a8"
             ],
             [
              0.3333333333333333,
              "#9c179e"
             ],
             [
              0.4444444444444444,
              "#bd3786"
             ],
             [
              0.5555555555555556,
              "#d8576b"
             ],
             [
              0.6666666666666666,
              "#ed7953"
             ],
             [
              0.7777777777777778,
              "#fb9f3a"
             ],
             [
              0.8888888888888888,
              "#fdca26"
             ],
             [
              1,
              "#f0f921"
             ]
            ],
            "type": "surface"
           }
          ],
          "table": [
           {
            "cells": {
             "fill": {
              "color": "#EBF0F8"
             },
             "line": {
              "color": "white"
             }
            },
            "header": {
             "fill": {
              "color": "#C8D4E3"
             },
             "line": {
              "color": "white"
             }
            },
            "type": "table"
           }
          ]
         },
         "layout": {
          "annotationdefaults": {
           "arrowcolor": "#2a3f5f",
           "arrowhead": 0,
           "arrowwidth": 1
          },
          "autotypenumbers": "strict",
          "coloraxis": {
           "colorbar": {
            "outlinewidth": 0,
            "ticks": ""
           }
          },
          "colorscale": {
           "diverging": [
            [
             0,
             "#8e0152"
            ],
            [
             0.1,
             "#c51b7d"
            ],
            [
             0.2,
             "#de77ae"
            ],
            [
             0.3,
             "#f1b6da"
            ],
            [
             0.4,
             "#fde0ef"
            ],
            [
             0.5,
             "#f7f7f7"
            ],
            [
             0.6,
             "#e6f5d0"
            ],
            [
             0.7,
             "#b8e186"
            ],
            [
             0.8,
             "#7fbc41"
            ],
            [
             0.9,
             "#4d9221"
            ],
            [
             1,
             "#276419"
            ]
           ],
           "sequential": [
            [
             0,
             "#0d0887"
            ],
            [
             0.1111111111111111,
             "#46039f"
            ],
            [
             0.2222222222222222,
             "#7201a8"
            ],
            [
             0.3333333333333333,
             "#9c179e"
            ],
            [
             0.4444444444444444,
             "#bd3786"
            ],
            [
             0.5555555555555556,
             "#d8576b"
            ],
            [
             0.6666666666666666,
             "#ed7953"
            ],
            [
             0.7777777777777778,
             "#fb9f3a"
            ],
            [
             0.8888888888888888,
             "#fdca26"
            ],
            [
             1,
             "#f0f921"
            ]
           ],
           "sequentialminus": [
            [
             0,
             "#0d0887"
            ],
            [
             0.1111111111111111,
             "#46039f"
            ],
            [
             0.2222222222222222,
             "#7201a8"
            ],
            [
             0.3333333333333333,
             "#9c179e"
            ],
            [
             0.4444444444444444,
             "#bd3786"
            ],
            [
             0.5555555555555556,
             "#d8576b"
            ],
            [
             0.6666666666666666,
             "#ed7953"
            ],
            [
             0.7777777777777778,
             "#fb9f3a"
            ],
            [
             0.8888888888888888,
             "#fdca26"
            ],
            [
             1,
             "#f0f921"
            ]
           ]
          },
          "colorway": [
           "#636efa",
           "#EF553B",
           "#00cc96",
           "#ab63fa",
           "#FFA15A",
           "#19d3f3",
           "#FF6692",
           "#B6E880",
           "#FF97FF",
           "#FECB52"
          ],
          "font": {
           "color": "#2a3f5f"
          },
          "geo": {
           "bgcolor": "white",
           "lakecolor": "white",
           "landcolor": "#E5ECF6",
           "showlakes": true,
           "showland": true,
           "subunitcolor": "white"
          },
          "hoverlabel": {
           "align": "left"
          },
          "hovermode": "closest",
          "mapbox": {
           "style": "light"
          },
          "paper_bgcolor": "white",
          "plot_bgcolor": "#E5ECF6",
          "polar": {
           "angularaxis": {
            "gridcolor": "white",
            "linecolor": "white",
            "ticks": ""
           },
           "bgcolor": "#E5ECF6",
           "radialaxis": {
            "gridcolor": "white",
            "linecolor": "white",
            "ticks": ""
           }
          },
          "scene": {
           "xaxis": {
            "backgroundcolor": "#E5ECF6",
            "gridcolor": "white",
            "gridwidth": 2,
            "linecolor": "white",
            "showbackground": true,
            "ticks": "",
            "zerolinecolor": "white"
           },
           "yaxis": {
            "backgroundcolor": "#E5ECF6",
            "gridcolor": "white",
            "gridwidth": 2,
            "linecolor": "white",
            "showbackground": true,
            "ticks": "",
            "zerolinecolor": "white"
           },
           "zaxis": {
            "backgroundcolor": "#E5ECF6",
            "gridcolor": "white",
            "gridwidth": 2,
            "linecolor": "white",
            "showbackground": true,
            "ticks": "",
            "zerolinecolor": "white"
           }
          },
          "shapedefaults": {
           "line": {
            "color": "#2a3f5f"
           }
          },
          "ternary": {
           "aaxis": {
            "gridcolor": "white",
            "linecolor": "white",
            "ticks": ""
           },
           "baxis": {
            "gridcolor": "white",
            "linecolor": "white",
            "ticks": ""
           },
           "bgcolor": "#E5ECF6",
           "caxis": {
            "gridcolor": "white",
            "linecolor": "white",
            "ticks": ""
           }
          },
          "title": {
           "x": 0.05
          },
          "xaxis": {
           "automargin": true,
           "gridcolor": "white",
           "linecolor": "white",
           "ticks": "",
           "title": {
            "standoff": 15
           },
           "zerolinecolor": "white",
           "zerolinewidth": 2
          },
          "yaxis": {
           "automargin": true,
           "gridcolor": "white",
           "linecolor": "white",
           "ticks": "",
           "title": {
            "standoff": 15
           },
           "zerolinecolor": "white",
           "zerolinewidth": 2
          }
         }
        },
        "title": {
         "text": "2D Projection"
        },
        "xaxis": {
         "title": {
          "text": "Principal Component 1"
         }
        },
        "yaxis": {
         "title": {
          "text": "Principal Component 2"
         }
        }
       }
      }
     },
     "metadata": {},
     "output_type": "display_data"
    }
   ],
   "source": [
    "# Build the matrix and get the labels of the respective points (in this case, the labels are just the file names)\n",
    "matrix, labels = matrixBuilder(langScores)\n",
    "\n",
    "# Project the matrix onto 2D and 3D space \n",
    "proj_matrix_3D = project_to_3d(matrix)\n",
    "proj_matrix_2D = project_to_2d(matrix)\n",
    "\n",
    "# Plot the projections\n",
    "plot_3d_projection(proj_matrix_3D,labels)\n",
    "plot_2d_projection(proj_matrix_3D,labels)"
   ]
  },
  {
   "cell_type": "code",
   "execution_count": 23,
   "metadata": {},
   "outputs": [
    {
     "name": "stdout",
     "output_type": "stream",
     "text": [
      "                                                      arabic       eng  rus  \\\n",
      "3 landasan utama dienul Islam.txt                   0.000000  0.097423  0.0   \n",
      "33 SIKAP GHULUW DALAM TAK.txt                       0.000054  0.108190  0.0   \n",
      "4 kaidah mengetahui kesyirikan _ syaikh muhamma...  0.001167  0.099983  0.0   \n",
      "44 Ways To Support Jihad.txt                        0.000000  0.295197  0.0   \n",
      "5_106434014058905971.txt                            0.000000  0.117273  0.0   \n",
      "...                                                      ...       ...  ...   \n",
      "_____ ________ ___ ____ _____ _______ ____ ___.txt  0.032096  0.000051  0.0   \n",
      "_______ __ ___ _____ _______.txt                    0.000000  0.000000  0.0   \n",
      "_______ ___ ____ _______.txt                        0.236528  0.000004  0.0   \n",
      "_______ _____.txt                                   0.000000  0.000000  0.0   \n",
      "الارض مسطحة 3.txt                                   0.219408  0.001402  0.0   \n",
      "\n",
      "                                                        span                0  \n",
      "3 landasan utama dienul Islam.txt                   0.121183             span  \n",
      "33 SIKAP GHULUW DALAM TAK.txt                       0.133086             span  \n",
      "4 kaidah mengetahui kesyirikan _ syaikh muhamma...  0.126431             span  \n",
      "44 Ways To Support Jihad.txt                        0.148991              eng  \n",
      "5_106434014058905971.txt                            0.134433             span  \n",
      "...                                                      ...              ...  \n",
      "_____ ________ ___ ____ _____ _______ ____ ___.txt  0.000133           arabic  \n",
      "_______ __ ___ _____ _______.txt                    0.000000  Not Enough Data  \n",
      "_______ ___ ____ _______.txt                        0.000000           arabic  \n",
      "_______ _____.txt                                   0.000000  Not Enough Data  \n",
      "الارض مسطحة 3.txt                                   0.001076           arabic  \n",
      "\n",
      "[86 rows x 5 columns]\n"
     ]
    }
   ],
   "source": [
    "df = pd.DataFrame(langScores).transpose().rename(columns={0: 'arabic', 1: 'eng', 2: 'rus', 3: 'span'})\n",
    "\n",
    "# Find the column name with the max value for each document\n",
    "max_columns = df.idxmax(axis=1)\n",
    "\n",
    "result = df.apply(max_column_or_label, axis=1)\n",
    "\n",
    "df = pd.concat([df,result], axis = 1)\n",
    "print(df)"
   ]
  }
 ],
 "metadata": {
  "kernelspec": {
   "display_name": "Python 3",
   "language": "python",
   "name": "python3"
  },
  "language_info": {
   "codemirror_mode": {
    "name": "ipython",
    "version": 3
   },
   "file_extension": ".py",
   "mimetype": "text/x-python",
   "name": "python",
   "nbconvert_exporter": "python",
   "pygments_lexer": "ipython3",
   "version": "3.11.5"
  }
 },
 "nbformat": 4,
 "nbformat_minor": 2
}
