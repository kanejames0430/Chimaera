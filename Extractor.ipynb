{
 "cells": [
  {
   "cell_type": "code",
   "execution_count": 1,
   "metadata": {},
   "outputs": [],
   "source": [
    "# Imports\n",
    "import os\n",
    "from methods import *\n",
    "\n",
    "# Initialize Paths\n",
    "path = r'data/documents/sample.pdf' # temp\n",
    "outDir = r'data/samplesDocs'"
   ]
  },
  {
   "cell_type": "code",
   "execution_count": 2,
   "metadata": {},
   "outputs": [
    {
     "name": "stdout",
     "output_type": "stream",
     "text": [
      "Feature not yet implemented!\n",
      "Feature not yet implemented!\n",
      "Feature not yet implemented!\n"
     ]
    }
   ],
   "source": [
    "# code responsible for extracting all the text from any document. Calls the extractText() function.\n",
    "# and then writes the content to the sampleDocs folder.\n",
    "for doc in os.listdir(r'data\\doc'):\n",
    "    path = r'data/doc/' + doc\n",
    "    try:\n",
    "        c,p,e = extractText(path)\n",
    "        writeContent(c,p,e,outDir)\n",
    "    except UnicodeDecodeError:\n",
    "        print(path + \" had an error processing text\")\n"
   ]
  }
 ],
 "metadata": {
  "kernelspec": {
   "display_name": "Python 3",
   "language": "python",
   "name": "python3"
  },
  "language_info": {
   "codemirror_mode": {
    "name": "ipython",
    "version": 3
   },
   "file_extension": ".py",
   "mimetype": "text/x-python",
   "name": "python",
   "nbconvert_exporter": "python",
   "pygments_lexer": "ipython3",
   "version": "3.11.5"
  }
 },
 "nbformat": 4,
 "nbformat_minor": 2
}
