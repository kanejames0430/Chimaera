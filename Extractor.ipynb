{
 "cells": [
  {
   "cell_type": "code",
   "execution_count": 5,
   "metadata": {},
   "outputs": [],
   "source": [
    "# Imports\n",
    "import os\n",
    "from methods import *\n",
    "\n",
    "# Initialize Paths\n",
    "path = r'data/documents/sample.pdf' # temp\n",
    "outDir = r'data/samplesDocs'"
   ]
  },
  {
   "cell_type": "code",
   "execution_count": 6,
   "metadata": {},
   "outputs": [
    {
     "name": "stdout",
     "output_type": "stream",
     "text": [
      "Feature not yet implemented. @TO DO '.doc'\n",
      "Feature not yet implemented. @TO DO '.docx'\n",
      "Feature not yet implemented. @TO DO '.doc'\n",
      "Feature not yet implemented. @TO DO '.doc'\n",
      "Feature not yet implemented. @TO DO '.docx'\n",
      "Feature not yet implemented. @TO DO '.docx'\n",
      "Feature not yet implemented. @TO DO '.docx'\n",
      "Feature not yet implemented. @TO DO '.docx'\n"
     ]
    }
   ],
   "source": [
    "# code responsible for extracting all the text from any document. Calls the extractText() function.\n",
    "# and then writes the content to the sampleDocs folder.\n",
    "for doc in os.listdir(r'data\\doc'):\n",
    "    path = r'data/doc/' + doc\n",
    "    try:\n",
    "        c,p,e = extractText(path)\n",
    "        writeContent(c,p,e,outDir)\n",
    "    except UnicodeDecodeError:\n",
    "        print(path + \" had an error processing text\")\n"
   ]
  },
  {
   "cell_type": "code",
   "execution_count": 7,
   "metadata": {},
   "outputs": [
    {
     "name": "stdout",
     "output_type": "stream",
     "text": [
      "Defaulting to user installation because normal site-packages is not writeable\n",
      "Collecting docxpy\n",
      "  Downloading docxpy-0.8.5.tar.gz (4.1 kB)\n",
      "  Preparing metadata (setup.py): started\n",
      "  Preparing metadata (setup.py): finished with status 'done'\n",
      "Building wheels for collected packages: docxpy\n",
      "  Building wheel for docxpy (setup.py): started\n",
      "  Building wheel for docxpy (setup.py): finished with status 'done'\n",
      "  Created wheel for docxpy: filename=docxpy-0.8.5-py3-none-any.whl size=5004 sha256=ea10f26f2d07f5112bf26968aad5a5102e28afb5650131a957f6610819b9a0d7\n",
      "  Stored in directory: c:\\users\\jkane\\appdata\\local\\pip\\cache\\wheels\\25\\41\\f3\\7ea75e309596711f8ac77ac3f08682710a6ce4b3e3ac3b72fe\n",
      "Successfully built docxpy\n",
      "Installing collected packages: docxpy\n",
      "Successfully installed docxpy-0.8.5\n",
      "Note: you may need to restart the kernel to use updated packages.\n"
     ]
    }
   ],
   "source": [
    "pip install docxpy"
   ]
  }
 ],
 "metadata": {
  "kernelspec": {
   "display_name": "Python 3",
   "language": "python",
   "name": "python3"
  },
  "language_info": {
   "codemirror_mode": {
    "name": "ipython",
    "version": 3
   },
   "file_extension": ".py",
   "mimetype": "text/x-python",
   "name": "python",
   "nbconvert_exporter": "python",
   "pygments_lexer": "ipython3",
   "version": "3.11.5"
  }
 },
 "nbformat": 4,
 "nbformat_minor": 2
}
